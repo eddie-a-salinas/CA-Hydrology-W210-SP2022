{
 "cells": [
  {
   "cell_type": "markdown",
   "id": "b2b1d8df",
   "metadata": {},
   "source": [
    "# Regional Model Comparisons with SCA_Image (Input) and CATDEF (Target) using ConvLSTM2D"
   ]
  },
  {
   "cell_type": "code",
   "execution_count": 8,
   "id": "e432939c",
   "metadata": {},
   "outputs": [],
   "source": [
    "# !pip3 install pickle5\n",
    "# !pip install tqdm\n",
    "import tqdm\n",
    "import pickle5 as pickle\n",
    "import matplotlib as mpl\n",
    "import pandas as pd\n",
    "import numpy as np\n",
    "import math\n",
    "import tensorflow as tf\n",
    "\n",
    "from matplotlib import pyplot\n",
    "\n",
    "from tensorflow.keras.layers import ConvLSTM2D\n",
    "from tensorflow.keras.layers import MaxPooling3D\n",
    "from numpy import zeros, newaxis\n",
    "\n",
    "from sklearn.metrics import r2_score, f1_score, mean_squared_error, mean_absolute_percentage_error, mean_absolute_error\n",
    "from sklearn.datasets import make_classification\n",
    "from sklearn.linear_model import LogisticRegression, LinearRegression\n",
    "\n",
    "import seaborn as sns\n",
    "import pylab as plt\n",
    "\n",
    "import tensorflow as tf\n",
    "from tensorflow.keras.models import Sequential\n",
    "from tensorflow.keras.layers import Dense, Conv2D, Dropout, Flatten, MaxPooling2D\n",
    "\n",
    "import io\n",
    "from PIL import Image\n",
    "from io import StringIO\n",
    "\n",
    "import time\n",
    "from tqdm import tqdm\n",
    "from time import sleep\n",
    "\n",
    "from IPython.display import clear_output\n",
    "\n",
    "pd.options.mode.chained_assignment = None  # default='warn'\n",
    "\n",
    "start_time = time.time()"
   ]
  },
  {
   "cell_type": "code",
   "execution_count": 20,
   "id": "b218920e-f077-4d49-99f0-4fd8a6905c3c",
   "metadata": {},
   "outputs": [
    {
     "name": "stdout",
     "output_type": "stream",
     "text": [
      "WARNING:tensorflow:From /tmp/ipykernel_13575/2010722736.py:3: The name tf.random.set_random_seed is deprecated. Please use tf.compat.v1.random.set_random_seed instead.\n",
      "\n"
     ]
    }
   ],
   "source": [
    "seed = 1234\n",
    "np.random.seed(seed)\n",
    "tf.random.set_random_seed(seed)"
   ]
  },
  {
   "cell_type": "code",
   "execution_count": 3,
   "id": "b2299503-08e3-44f9-b841-2842a054257c",
   "metadata": {},
   "outputs": [],
   "source": [
    "# config = tf.ConfigProto()\n",
    "# config.gpu_options.allow_growth=True\n",
    "# sess = tf.compat.v1.Session(config=config)"
   ]
  },
  {
   "cell_type": "markdown",
   "id": "d882450d-000c-4c9f-bc24-892bcc94a882",
   "metadata": {},
   "source": [
    "# Set run variables here"
   ]
  },
  {
   "cell_type": "code",
   "execution_count": 6,
   "id": "59189afb-f367-424b-9e68-f01d8accc582",
   "metadata": {},
   "outputs": [],
   "source": [
    "train_models = 11  # value of 0 through 10 to train corresponding model, set >10 to train no models (can only train one model at a time before resetting kernel due to memory exhaustion)\n",
    "save_models = 1\n",
    "compile_predictions = 1\n",
    "overwrite_ensemble_output = 1\n",
    "second_feature = 'evap'\n",
    "stop = 0\n",
    "# train_base_model = 0\n",
    "# save_summaries = 1\n",
    "multi_features = 1 \n",
    "# use_mask_for_testing = 0\n",
    "#how many months to offset selected columns\n",
    "offset = 0\n",
    "#region to leave unmasked\n",
    "region = 2\n",
    "region_mask_column = 'catdef_region_' + str(region)\n",
    "train_size = 123\n",
    "model_names = ['original_model', 'base_model', 'model_1', 'model_2', 'model_3', 'model_4', 'model_5', 'model_6', 'model_7', 'model_8', 'model_9', 'model_10']\n",
    "\n",
    "#replace masked cells with 0 or None\n",
    "mask_replace = None\n",
    "# # determines whether Y_train includes masked 0s or is reduced in size (dimension)\n",
    "# reduce_y = 1\n",
    "epochs = 500\n",
    "\n",
    "\n",
    "# Resize SCA image to 256x256 to avoid Out-of-Memory issues.\n",
    "img_height = 128\n",
    "img_width = 128\n",
    "IMAGE_SHAPE = (1, 128,128, 4)"
   ]
  },
  {
   "cell_type": "code",
   "execution_count": 7,
   "id": "f999880c-c3fb-4903-89b3-5a990332cb66",
   "metadata": {},
   "outputs": [],
   "source": [
    "region_mask = pd.read_csv('data/Region_mask.csv').to_numpy()\n",
    "flat_mask = region_mask.flatten().tolist()\n",
    "region_list = range(1,11)"
   ]
  },
  {
   "cell_type": "code",
   "execution_count": 23,
   "id": "abf91f04",
   "metadata": {},
   "outputs": [
    {
     "data": {
      "text/html": [
       "<div>\n",
       "<style scoped>\n",
       "    .dataframe tbody tr th:only-of-type {\n",
       "        vertical-align: middle;\n",
       "    }\n",
       "\n",
       "    .dataframe tbody tr th {\n",
       "        vertical-align: top;\n",
       "    }\n",
       "\n",
       "    .dataframe thead th {\n",
       "        text-align: right;\n",
       "    }\n",
       "</style>\n",
       "<table border=\"1\" class=\"dataframe\">\n",
       "  <thead>\n",
       "    <tr style=\"text-align: right;\">\n",
       "      <th></th>\n",
       "      <th>Year</th>\n",
       "      <th>Data_month</th>\n",
       "      <th>SCA</th>\n",
       "      <th>Landsat_Image</th>\n",
       "      <th>BW_SCA_Image</th>\n",
       "      <th>Color_SCA_Image</th>\n",
       "      <th>CA_catdef</th>\n",
       "      <th>catdef</th>\n",
       "      <th>catdef_region_1</th>\n",
       "      <th>catdef_region_2</th>\n",
       "      <th>catdef_region_3</th>\n",
       "      <th>catdef_region_4</th>\n",
       "      <th>catdef_region_5</th>\n",
       "      <th>catdef_region_6</th>\n",
       "      <th>catdef_region_7</th>\n",
       "      <th>catdef_region_8</th>\n",
       "      <th>catdef_region_9</th>\n",
       "      <th>catdef_region_10</th>\n",
       "      <th>rzexc</th>\n",
       "      <th>evap</th>\n",
       "    </tr>\n",
       "  </thead>\n",
       "  <tbody>\n",
       "    <tr>\n",
       "      <th>122</th>\n",
       "      <td>2013</td>\n",
       "      <td>122</td>\n",
       "      <td>43038753</td>\n",
       "      <td>&lt;PIL.Image.Image image mode=RGB size=480x480 a...</td>\n",
       "      <td>&lt;PIL.Image.Image image mode=1 size=570x660 at ...</td>\n",
       "      <td>&lt;PIL.Image.Image image mode=RGBA size=570x660 ...</td>\n",
       "      <td>[[nan, nan, nan, 72.395, 100.64, 113.99, 129.0...</td>\n",
       "      <td>[[nan, nan, nan, 72.395, 100.64, 113.99, 129.0...</td>\n",
       "      <td>[[nan, nan, nan, 72.395, 100.64, 113.99, 129.0...</td>\n",
       "      <td>[[nan, nan, nan, nan, nan, nan, nan, nan, nan,...</td>\n",
       "      <td>[[nan, nan, nan, nan, nan, nan, nan, nan, nan,...</td>\n",
       "      <td>[[nan, nan, nan, nan, nan, nan, nan, nan, nan,...</td>\n",
       "      <td>[[nan, nan, nan, nan, nan, nan, nan, nan, nan,...</td>\n",
       "      <td>[[nan, nan, nan, nan, nan, nan, nan, nan, nan,...</td>\n",
       "      <td>[[nan, nan, nan, nan, nan, nan, nan, nan, nan,...</td>\n",
       "      <td>[[nan, nan, nan, nan, nan, nan, nan, nan, nan,...</td>\n",
       "      <td>[[nan, nan, nan, nan, nan, nan, nan, nan, nan,...</td>\n",
       "      <td>[[nan, nan, nan, nan, nan, nan, nan, nan, nan,...</td>\n",
       "      <td>[[nan, nan, nan, 1.5935, 1.3338, 0.90994, 0.42...</td>\n",
       "      <td>[[nan, nan, nan, 1.8675, 1.8954, 1.7113, 1.739...</td>\n",
       "    </tr>\n",
       "    <tr>\n",
       "      <th>123</th>\n",
       "      <td>2013</td>\n",
       "      <td>123</td>\n",
       "      <td>59089132</td>\n",
       "      <td>&lt;PIL.Image.Image image mode=RGB size=480x480 a...</td>\n",
       "      <td>&lt;PIL.Image.Image image mode=1 size=570x660 at ...</td>\n",
       "      <td>&lt;PIL.Image.Image image mode=RGBA size=570x660 ...</td>\n",
       "      <td>[[nan, nan, nan, 85.939, 109.03, 122.28, 143.5...</td>\n",
       "      <td>[[nan, nan, nan, 85.939, 109.03, 122.28, 143.5...</td>\n",
       "      <td>[[nan, nan, nan, 85.939, 109.03, 122.28, 143.5...</td>\n",
       "      <td>[[nan, nan, nan, nan, nan, nan, nan, nan, nan,...</td>\n",
       "      <td>[[nan, nan, nan, nan, nan, nan, nan, nan, nan,...</td>\n",
       "      <td>[[nan, nan, nan, nan, nan, nan, nan, nan, nan,...</td>\n",
       "      <td>[[nan, nan, nan, nan, nan, nan, nan, nan, nan,...</td>\n",
       "      <td>[[nan, nan, nan, nan, nan, nan, nan, nan, nan,...</td>\n",
       "      <td>[[nan, nan, nan, nan, nan, nan, nan, nan, nan,...</td>\n",
       "      <td>[[nan, nan, nan, nan, nan, nan, nan, nan, nan,...</td>\n",
       "      <td>[[nan, nan, nan, nan, nan, nan, nan, nan, nan,...</td>\n",
       "      <td>[[nan, nan, nan, nan, nan, nan, nan, nan, nan,...</td>\n",
       "      <td>[[nan, nan, nan, 0.7728, 0.45347, 0.17026, -0....</td>\n",
       "      <td>[[nan, nan, nan, 2.6161, 2.6248, 2.5975, 2.507...</td>\n",
       "    </tr>\n",
       "  </tbody>\n",
       "</table>\n",
       "</div>"
      ],
      "text/plain": [
       "     Year  Data_month       SCA  \\\n",
       "122  2013         122  43038753   \n",
       "123  2013         123  59089132   \n",
       "\n",
       "                                         Landsat_Image  \\\n",
       "122  <PIL.Image.Image image mode=RGB size=480x480 a...   \n",
       "123  <PIL.Image.Image image mode=RGB size=480x480 a...   \n",
       "\n",
       "                                          BW_SCA_Image  \\\n",
       "122  <PIL.Image.Image image mode=1 size=570x660 at ...   \n",
       "123  <PIL.Image.Image image mode=1 size=570x660 at ...   \n",
       "\n",
       "                                       Color_SCA_Image  \\\n",
       "122  <PIL.Image.Image image mode=RGBA size=570x660 ...   \n",
       "123  <PIL.Image.Image image mode=RGBA size=570x660 ...   \n",
       "\n",
       "                                             CA_catdef  \\\n",
       "122  [[nan, nan, nan, 72.395, 100.64, 113.99, 129.0...   \n",
       "123  [[nan, nan, nan, 85.939, 109.03, 122.28, 143.5...   \n",
       "\n",
       "                                                catdef  \\\n",
       "122  [[nan, nan, nan, 72.395, 100.64, 113.99, 129.0...   \n",
       "123  [[nan, nan, nan, 85.939, 109.03, 122.28, 143.5...   \n",
       "\n",
       "                                       catdef_region_1  \\\n",
       "122  [[nan, nan, nan, 72.395, 100.64, 113.99, 129.0...   \n",
       "123  [[nan, nan, nan, 85.939, 109.03, 122.28, 143.5...   \n",
       "\n",
       "                                       catdef_region_2  \\\n",
       "122  [[nan, nan, nan, nan, nan, nan, nan, nan, nan,...   \n",
       "123  [[nan, nan, nan, nan, nan, nan, nan, nan, nan,...   \n",
       "\n",
       "                                       catdef_region_3  \\\n",
       "122  [[nan, nan, nan, nan, nan, nan, nan, nan, nan,...   \n",
       "123  [[nan, nan, nan, nan, nan, nan, nan, nan, nan,...   \n",
       "\n",
       "                                       catdef_region_4  \\\n",
       "122  [[nan, nan, nan, nan, nan, nan, nan, nan, nan,...   \n",
       "123  [[nan, nan, nan, nan, nan, nan, nan, nan, nan,...   \n",
       "\n",
       "                                       catdef_region_5  \\\n",
       "122  [[nan, nan, nan, nan, nan, nan, nan, nan, nan,...   \n",
       "123  [[nan, nan, nan, nan, nan, nan, nan, nan, nan,...   \n",
       "\n",
       "                                       catdef_region_6  \\\n",
       "122  [[nan, nan, nan, nan, nan, nan, nan, nan, nan,...   \n",
       "123  [[nan, nan, nan, nan, nan, nan, nan, nan, nan,...   \n",
       "\n",
       "                                       catdef_region_7  \\\n",
       "122  [[nan, nan, nan, nan, nan, nan, nan, nan, nan,...   \n",
       "123  [[nan, nan, nan, nan, nan, nan, nan, nan, nan,...   \n",
       "\n",
       "                                       catdef_region_8  \\\n",
       "122  [[nan, nan, nan, nan, nan, nan, nan, nan, nan,...   \n",
       "123  [[nan, nan, nan, nan, nan, nan, nan, nan, nan,...   \n",
       "\n",
       "                                       catdef_region_9  \\\n",
       "122  [[nan, nan, nan, nan, nan, nan, nan, nan, nan,...   \n",
       "123  [[nan, nan, nan, nan, nan, nan, nan, nan, nan,...   \n",
       "\n",
       "                                      catdef_region_10  \\\n",
       "122  [[nan, nan, nan, nan, nan, nan, nan, nan, nan,...   \n",
       "123  [[nan, nan, nan, nan, nan, nan, nan, nan, nan,...   \n",
       "\n",
       "                                                 rzexc  \\\n",
       "122  [[nan, nan, nan, 1.5935, 1.3338, 0.90994, 0.42...   \n",
       "123  [[nan, nan, nan, 0.7728, 0.45347, 0.17026, -0....   \n",
       "\n",
       "                                                  evap  \n",
       "122  [[nan, nan, nan, 1.8675, 1.8954, 1.7113, 1.739...  \n",
       "123  [[nan, nan, nan, 2.6161, 2.6248, 2.5975, 2.507...  "
      ]
     },
     "execution_count": 14,
     "metadata": {},
     "output_type": "execute_result"
    }
   ],
   "source": [
    "path = './data/all_data_with_catdef_masks.pkl'\n",
    "with open(path, \"rb\") as fh:\n",
    "  data = pickle.load(fh)\n",
    "# all_data_df = pd.read_pickle('./data/all_data.pkl')\n",
    "# now_with_predictions = data.copy()\n",
    "all_data_df = data.copy(deep=True)\n",
    "test_months = np.arange(train_size, len(all_data_df), 1)\n",
    "#reindex Month column for clarity\n",
    "all_data_df['Month'] =  np.arange(0, len(all_data_df), 1)\n",
    "all_data_df = all_data_df.rename(columns={\"Month\": \"Data_month\"})\n",
    "all_data_df.iloc[:,:20][122:124]"
   ]
  },
  {
   "cell_type": "code",
   "execution_count": 7,
   "id": "7a4b0564-40d6-4691-9ba6-d56bc6e3d280",
   "metadata": {},
   "outputs": [
    {
     "data": {
      "text/plain": [
       "Index(['Year', 'Data_month', 'SCA', 'Landsat_Image', 'BW_SCA_Image',\n",
       "       'Color_SCA_Image', 'CA_catdef', 'catdef', 'catdef_region_1',\n",
       "       'catdef_region_2', 'catdef_region_3', 'catdef_region_4',\n",
       "       'catdef_region_5', 'catdef_region_6', 'catdef_region_7',\n",
       "       'catdef_region_8', 'catdef_region_9', 'catdef_region_10', 'rzexc',\n",
       "       'evap', 'srfexc', 'sfmc', 'capac', 'Snowf', 'Rainf', 'prmc', 'sumwesn',\n",
       "       'runoff', 'Tair', 'RainfC', 'rzmc'],\n",
       "      dtype='object')"
      ]
     },
     "execution_count": 7,
     "metadata": {},
     "output_type": "execute_result"
    }
   ],
   "source": [
    "all_data_df.columns"
   ]
  },
  {
   "cell_type": "code",
   "execution_count": 7,
   "id": "9c402e9b-89fe-42a1-a642-1b136e62b86c",
   "metadata": {},
   "outputs": [
    {
     "data": {
      "text/plain": [
       "array([123, 124, 125, 126, 127, 128, 129, 130, 131, 132, 133, 134, 135,\n",
       "       136, 137, 138, 139, 140, 141, 142, 143, 144, 145, 146, 147, 148,\n",
       "       149, 150, 151, 152, 153, 154, 155, 156, 157, 158, 159, 160, 161,\n",
       "       162, 163, 164, 165, 166, 167])"
      ]
     },
     "execution_count": 7,
     "metadata": {},
     "output_type": "execute_result"
    }
   ],
   "source": [
    "test_months"
   ]
  },
  {
   "cell_type": "code",
   "execution_count": 9,
   "id": "0dd2e173-cd15-4f02-9649-e0e24e7c72ce",
   "metadata": {},
   "outputs": [
    {
     "data": {
      "text/plain": [
       "Index(['Year', 'Data_month', 'SCA', 'Landsat_Image', 'BW_SCA_Image',\n",
       "       'Color_SCA_Image', 'CA_catdef', 'catdef', 'catdef_region_1',\n",
       "       'catdef_region_2', 'catdef_region_3', 'catdef_region_4',\n",
       "       'catdef_region_5', 'catdef_region_6', 'catdef_region_7',\n",
       "       'catdef_region_8', 'catdef_region_9', 'catdef_region_10', 'rzexc',\n",
       "       'evap', 'srfexc', 'sfmc', 'capac', 'Snowf', 'Rainf', 'prmc', 'sumwesn',\n",
       "       'runoff', 'Tair', 'RainfC', 'rzmc'],\n",
       "      dtype='object')"
      ]
     },
     "execution_count": 9,
     "metadata": {},
     "output_type": "execute_result"
    }
   ],
   "source": [
    "all_data_df.columns"
   ]
  },
  {
   "cell_type": "code",
   "execution_count": 10,
   "id": "e6d8484a-706a-4aee-abf3-dd9f56d89416",
   "metadata": {},
   "outputs": [],
   "source": [
    "# #Load saved predictions from previous runs (.pkl file)\n",
    "# if multi_features == 0:\n",
    "#     path = './data/all_predictions.pkl'\n",
    "# if multi_features == 1:\n",
    "#     path = './2_input_data/all_predictions.pkl'\n",
    "# with open(path, \"rb\") as fh:\n",
    "#   loaded_predictions = pickle.load(fh)\n",
    "# loaded_predictions.tail(5)"
   ]
  },
  {
   "cell_type": "code",
   "execution_count": 11,
   "id": "4c2be8d9-2395-4012-8381-8110d0bc629e",
   "metadata": {},
   "outputs": [],
   "source": [
    "# path = './2_input_data/predictions_plus_mixed.pkl'\n",
    "# with open(path, \"rb\") as fh:\n",
    "#   loaded_predictions_full = pickle.load(fh)\n",
    "# loaded_predictions_full.tail(5)    "
   ]
  },
  {
   "cell_type": "code",
   "execution_count": null,
   "id": "cec88e73-758f-4a3c-93f0-7d99f114c5b9",
   "metadata": {},
   "outputs": [],
   "source": []
  },
  {
   "cell_type": "code",
   "execution_count": null,
   "id": "ee95d630-61fe-4508-b1c3-6a4587b7d106",
   "metadata": {},
   "outputs": [],
   "source": [
    " "
   ]
  },
  {
   "cell_type": "code",
   "execution_count": null,
   "id": "0c45f64a-e0ac-47b1-970a-0be22426846e",
   "metadata": {},
   "outputs": [],
   "source": []
  },
  {
   "cell_type": "code",
   "execution_count": null,
   "id": "86a87210-7f6a-4ce4-af05-73fbe86c3508",
   "metadata": {},
   "outputs": [],
   "source": []
  },
  {
   "cell_type": "code",
   "execution_count": 12,
   "id": "6cb12432-0ba7-4e79-b183-ec3dc3f30ba4",
   "metadata": {},
   "outputs": [],
   "source": [
    "# data['sum_of_regions'] = (data['catdef_region_1'].apply(lambda x: np.sum(np.nan_to_num(x, nan = 0))) + data['catdef_region_2'].apply(lambda x: np.sum(np.nan_to_num(x, nan = 0))) \n",
    "#                           + data['catdef_region_3'].apply(lambda x: np.sum(np.nan_to_num(x, nan = 0))) + data['catdef_region_4'].apply(lambda x: np.sum(np.nan_to_num(x, nan = 0)))\n",
    "#                           + data['catdef_region_5'].apply(lambda x: np.sum(np.nan_to_num(x, nan = 0))) + data['catdef_region_6'].apply(lambda x: np.sum(np.nan_to_num(x, nan = 0)))\n",
    "#                           + data['catdef_region_7'] + data['catdef_region_8'].apply(lambda x: np.sum(np.nan_to_num(x, nan = 0))) + data['catdef_region_9'].apply(lambda x: np.sum(np.nan_to_num(x, nan = 0)))\n",
    "#                           + data['catdef_region_10'].apply(lambda x: np.sum(np.nan_to_num(x, nan = 0))))\n",
    "# catdef_df = pd.DataFrame(data['sum_of_regions'])\n",
    "# catdef_df['sum'] = catdef_df['sum_of_regions'].apply(lambda x: np.sum(np.nan_to_num(x, nan = 0)))\n",
    "# catdef_df"
   ]
  },
  {
   "cell_type": "code",
   "execution_count": null,
   "id": "2c708b20-9a5b-4fcb-8573-6756d6b2ecc1",
   "metadata": {},
   "outputs": [],
   "source": []
  },
  {
   "cell_type": "code",
   "execution_count": 20,
   "id": "6366cadd-9ce4-4a43-9620-8c6e9bcc5571",
   "metadata": {},
   "outputs": [
    {
     "data": {
      "image/png": "[encoded data removed]",
      "text/plain": [
       "<Figure size 2880x288 with 12 Axes>"
      ]
     },
     "metadata": {
      "needs_background": "light"
     },
     "output_type": "display_data"
    }
   ],
   "source": [
    "fig = plt.figure(figsize=(40,4))\n",
    "\n",
    "plt.subplot(1,12,1)\n",
    "plt.title('Original')\n",
    "plt.imshow(all_data_df['catdef'][0], cmap = 'winter')\n",
    "\n",
    "plt.subplot(1,12,2)\n",
    "plt.title('CA_catdef')\n",
    "plt.imshow(all_data_df['CA_catdef'][0], cmap = 'winter')\n",
    "\n",
    "for i in range(3,13):\n",
    "    msk_rg = 'catdef_region_' + str(i-2)\n",
    "    plt.subplot(1,12,i)\n",
    "    plt.title('Masked' + str(i-2))\n",
    "    plt.imshow(all_data_df[msk_rg][0], cmap = 'winter')"
   ]
  },
  {
   "cell_type": "code",
   "execution_count": 25,
   "id": "edea6916-ac53-4627-a817-6e4819faffa0",
   "metadata": {},
   "outputs": [
    {
     "name": "stdout",
     "output_type": "stream",
     "text": [
      "1 : 52\n",
      "2 : 11\n",
      "3 : 30\n",
      "4 : 25\n",
      "5 : 76\n",
      "6 : 46\n",
      "7 : 36\n",
      "8 : 21\n",
      "9 : 81\n",
      "10 : 62\n"
     ]
    }
   ],
   "source": [
    "region_sizes = []\n",
    "for i in range(1,11):\n",
    "    matches = region_mask[region_mask == i]\n",
    "    region_sizes.append(len(matches))\n",
    "    print(i, \":\",  len(matches))"
   ]
  },
  {
   "cell_type": "markdown",
   "id": "e32f3460-de88-47ef-b542-4c58d8d9b271",
   "metadata": {},
   "source": [
    "## Functions    <<<<<<<<<<<<<<<<<<<<<<<<<<<<<<<<<<<<<<<<<<<<<<<<<<<<<<<<<<<<<<<<<<<<<<<<<<<<<<<<<<<<<<<<<<<<<<<<<<<<<<<<<<<<<<<<<<<<<<<<<<<<<<<<<<<<<<<<<<<<<<<<<<<<<<<<<<<"
   ]
  },
  {
   "cell_type": "code",
   "execution_count": 26,
   "id": "d6d3406d-cbc0-4102-8677-1bf7afa2129d",
   "metadata": {},
   "outputs": [],
   "source": [
    "def general_plot(plotlist, cmap = 'winter'):\n",
    "    fig = plt.figure(figsize=(4,4))\n",
    "    if len(plotlist) > 33:\n",
    "        plotlist = np.array(plotlist).reshape(33,37)\n",
    "\n",
    "    plt.imshow(plotlist, cmap = cmap)"
   ]
  },
  {
   "cell_type": "code",
   "execution_count": 27,
   "id": "8156684c-9f1c-4d96-aeb3-5482f3a83bfc",
   "metadata": {},
   "outputs": [],
   "source": [
    "def dual_plot(pred, actual):\n",
    "    if len(pred) > 33:\n",
    "        pred = np.array(pred).reshape(33,37)\n",
    "    if len(actual) > 33:\n",
    "        actual = np.array(actual).reshape(33,37)\n",
    "    \n",
    "    fig = plt.figure(figsize=(4,4))\n",
    "    plt.subplot(1,2,1)\n",
    "    plt.title('pred')\n",
    "    plt.imshow(pred, cmap = 'winter')\n",
    "    \n",
    "    plt.subplot(1,2,2)\n",
    "    plt.title('actual')\n",
    "    plt.imshow(actual, cmap = 'winter')"
   ]
  },
  {
   "cell_type": "code",
   "execution_count": 17,
   "id": "cb8dd269-df47-470a-a488-0fbb7aae28e5",
   "metadata": {},
   "outputs": [],
   "source": [
    "# loaded_predictions"
   ]
  },
  {
   "cell_type": "code",
   "execution_count": 28,
   "id": "b6d1dd61-eb78-4ea9-aee8-f91510d765c8",
   "metadata": {},
   "outputs": [],
   "source": [
    "# this applies the region mask to a flat list\n",
    "def mask_list(full_list, mask, region):\n",
    "    if len(full_list) == 1:\n",
    "        full_list = full_list[0]\n",
    "    masked_list = np.array(full_list.copy())\n",
    "    for i in range(len(full_list)):\n",
    "        if region == 9999:\n",
    "            if mask[i] > 0:\n",
    "                 masked_list[i] = full_list[i]\n",
    "            else:\n",
    "                masked_list[i] = None\n",
    "        else:        \n",
    "            if mask[i] == region:\n",
    "                masked_list[i] = full_list[i]\n",
    "            else:\n",
    "                masked_list[i] = None \n",
    "    return masked_list"
   ]
  },
  {
   "cell_type": "code",
   "execution_count": 29,
   "id": "32ad4154-1e9d-4759-bbd9-d72852d87e0f",
   "metadata": {},
   "outputs": [],
   "source": [
    "# this creates a new df by sampling portions of several y predictions (from separate models) into a single 1221-length list\n",
    "# intended for use with the loaded .pkl file of predictions\n",
    "model_region_dict = {\n",
    "    1:'model_1',\n",
    "    2:'base_model',\n",
    "    3:'model_3',\n",
    "    4:'base_model',\n",
    "    5:'base_model',\n",
    "    6:'base_model',\n",
    "    7:'model_7',\n",
    "    8:'model_8',\n",
    "    9:'model_9',\n",
    "    10:'model_10'     \n",
    "}\n",
    "def sampler(reference_df, region_dict, month):\n",
    "    df = reference_df.copy(deep=True)\n",
    "    new_array = []\n",
    "    for j in range(len(flat_mask)):\n",
    "        if flat_mask[j] in model_region_dict.keys():\n",
    "            new_array.append(loaded_predictions['y_prediction'][(loaded_predictions['Month'] == month) & (loaded_predictions['Model'] == model_region_dict.get(flat_mask[j]))].tolist()[0][j])\n",
    "            # array[j] = df['y_prediction'][(df['Month'] == month) & (df['Model'] == 'model_1')][0][j]\n",
    "\n",
    "        else: new_array.append(0)\n",
    "\n",
    "    return new_array    \n",
    "    \n",
    "# z = sampler(loaded_predictions, model_region_dict, 140)  \n",
    "    \n",
    "  "
   ]
  },
  {
   "cell_type": "code",
   "execution_count": 30,
   "id": "5b838e20-627d-4851-9c6c-6148d6a9e882",
   "metadata": {},
   "outputs": [],
   "source": [
    "# this applies the region mask to a 33x37 array\n",
    "def mask_image(image, region):\n",
    "        masked_frame = image.copy()\n",
    "        for i in range(len(masked_frame)):\n",
    "            for j in range(len(masked_frame[i])):\n",
    "                if pd.notna(masked_frame[i][j]) and region_mask[i][j] != region:\n",
    "                    masked_frame[i][j] = None\n",
    "        return masked_frame\n",
    "    "
   ]
  },
  {
   "cell_type": "code",
   "execution_count": 31,
   "id": "c3987c1b-8740-4c4d-bb0d-13e2c01df2c6",
   "metadata": {},
   "outputs": [],
   "source": [
    "#this cycles through selected models over selected months and collects the full prediction (y) for each combination\n",
    "def get_predictions(df, model, months_array):   \n",
    "    all_predictions = []\n",
    "    pred_base_df = pd.DataFrame()\n",
    "    pred_base_df['Month'] = months_array\n",
    "    pred_base_df['Model'] = model.name\n",
    "    \n",
    "    for month in months_array:\n",
    "        if multi_features == 0:\n",
    "            test_img = np.nan_to_num(np.array(df['Color_SCA_Image'][month].resize(1, 128,128, 4)), nan=0)\n",
    "            y_pred = model.predict(test_img.reshape(1, 128,128, 4))\n",
    "        if multi_features == 1:\n",
    "            y_pred = model.predict(X_test[0].reshape(1, 1, 152, 324, 4))\n",
    "        all_predictions.append(y_pred[0])\n",
    "    pred_base_df['y_prediction'] = all_predictions\n",
    "    \n",
    "    return pred_base_df"
   ]
  },
  {
   "cell_type": "code",
   "execution_count": null,
   "id": "00783c08-49b9-45f1-92b5-51e13bea8642",
   "metadata": {},
   "outputs": [],
   "source": []
  },
  {
   "cell_type": "code",
   "execution_count": 32,
   "id": "086b813e-4aad-4971-b23e-8b7007fc5a3e",
   "metadata": {},
   "outputs": [],
   "source": [
    "#this cycles through selected models over selected months and collects the full prediction (y) for each combination\n",
    "def get_predictions_mult(X_test, model, months_array):   \n",
    "    all_predictions = []\n",
    "    pred_base_df = pd.DataFrame()\n",
    "    pred_base_df['Month'] = months_array\n",
    "    pred_base_df['Model'] = model.name\n",
    "    \n",
    "    for month in range(len(X_test)):\n",
    "        if multi_features == 0:\n",
    "            test_img = np.nan_to_num(np.array(df['Color_SCA_Image'][month].resize(1, 128,128, 4)), nan=0)\n",
    "            y_pred = model.predict(test_img.reshape(1, 128,128, 4))\n",
    "        if multi_features == 1:\n",
    "            y_pred = model.predict(X_test[month].reshape(1, 1, 152, 324, 4))\n",
    "        all_predictions.append(y_pred[0])\n",
    "    pred_base_df['y_prediction'] = all_predictions\n",
    "    \n",
    "    return pred_base_df"
   ]
  },
  {
   "cell_type": "code",
   "execution_count": 33,
   "id": "4bcea3bc-68e4-4b36-8209-b8d5cf659113",
   "metadata": {},
   "outputs": [],
   "source": [
    "def quick_eval(pred, true):\n",
    "    true = np.nan_to_num(true, nan=0)\n",
    "    pred = np.nan_to_num(pred, nan=0)\n",
    "    accuracy =   1 - abs(np.sum(pred)-np.sum(true))/np.sum(true)\n",
    "    print(accuracy)\n",
    "    return accuracy"
   ]
  },
  {
   "cell_type": "code",
   "execution_count": null,
   "id": "9bcc4f41-87bd-49ac-983f-85c0d324b52b",
   "metadata": {},
   "outputs": [],
   "source": []
  },
  {
   "cell_type": "markdown",
   "id": "936e6161-afa7-4552-8d8c-cc115ecbbd33",
   "metadata": {},
   "source": [
    "## Model setup   <<<<<<<<<<<<<<<<<<<<<<<<<<<<<<<<<<<<<<<<<<<<<<<<<<<<<<<<<<<<<<<<<<<<<<<<<<<<<<<<<<<<<<<<<<<<<<<<<<<<<<<<<<<<<<<<<<<<<<<<"
   ]
  },
  {
   "cell_type": "code",
   "execution_count": 34,
   "id": "97680a9a-0c98-4eed-a6d0-aa33f4f394f4",
   "metadata": {},
   "outputs": [],
   "source": [
    "if multi_features == 0:\n",
    "    IMAGE_SHAPE = (1, 128,128, 4)\n",
    "if multi_features == 1:\n",
    "    IMAGE_SHAPE = (1, 152,324, 4)\n",
    "    \n",
    "\n",
    "# model = keras.models.load_model(save_str_model)\n",
    "\n",
    "def setup(name):\n",
    "    model = Sequential()\n",
    "    full_name = str(name + '_' + str(second_feature))\n",
    "    model._name = full_name\n",
    "    model.add(ConvLSTM2D(64, kernel_size=(3,3), input_shape=IMAGE_SHAPE, padding='valid', return_sequences=True))\n",
    "    model.add(MaxPooling3D(pool_size=(1, 2, 2)))\n",
    "    model.add(ConvLSTM2D(64, kernel_size=(3,3), padding='valid', return_sequences=True))\n",
    "    model.add(MaxPooling3D(pool_size=(1,2, 2)))\n",
    "    model.add(Flatten()) # Flattening the 2D arrays for fully connected layers\n",
    "    model.add(Dense(1300))\n",
    "    model.add(Dense(1300))\n",
    "    model.add(Dropout(0.1))\n",
    "    model.add(Dense(1221, activation=tf.keras.activations.linear))\n",
    "    return(model)\n",
    "\n",
    "# model.compile(optimizer='adam', loss='mean_absolute_error', metrics=[tf.keras.metrics.MeanAbsolutePercentageError()])"
   ]
  },
  {
   "cell_type": "code",
   "execution_count": null,
   "id": "019b0943-0c87-40c2-9a20-6e2c83ffb158",
   "metadata": {},
   "outputs": [],
   "source": []
  },
  {
   "cell_type": "markdown",
   "id": "575b3456-45e6-4b79-b299-d7ce916a015a",
   "metadata": {
    "tags": []
   },
   "source": []
  },
  {
   "cell_type": "code",
   "execution_count": 35,
   "id": "3d110a25-cda3-44dc-a9a2-ce780da46a06",
   "metadata": {},
   "outputs": [],
   "source": [
    "def conv_snowcap_img(idx, height, width):\n",
    "    #img = (255 - np.nan_to_num(np.array(all_data_df['Color_SCA_Image'][idx].resize((height, width))), nan=0))\n",
    "    img = np.nan_to_num(np.array(all_data_df['Color_SCA_Image'][idx].resize((height, width))), nan=0)\n",
    "    for ix in range(height):\n",
    "        for iy in range(width):\n",
    "            img[ix][iy][3] = 255\n",
    "    #if lighten != 1:\n",
    "    # img = lighten_img(img, height, width, lighten)\n",
    "    \n",
    "    return img"
   ]
  },
  {
   "cell_type": "code",
   "execution_count": 36,
   "id": "29d05eb0-7aad-40e6-b0bb-c8fb0ad70a9e",
   "metadata": {},
   "outputs": [],
   "source": [
    "def get_img_arr2(data, snowcap):\n",
    "    plt.subplot(1,2,1)\n",
    "    plt.axis('off')\n",
    "    plt.imshow(data, interpolation='nearest')\n",
    "\n",
    "    plt.subplot(1,2,2)\n",
    "    plt.axis('off')    \n",
    "    plt.imshow(snowcap)\n",
    "    with io.BytesIO() as buffer:\n",
    "        plt.savefig(buffer, format = \"png\")            \n",
    "        image = Image.open(buffer)        \n",
    "        cropped_image = image.crop(image.getbbox())                \n",
    "        ar = np.asarray(cropped_image)\n",
    "    plt.cla()\n",
    "    plt.clf()\n",
    "    return ar"
   ]
  },
  {
   "cell_type": "code",
   "execution_count": null,
   "id": "2e725fc0-252c-4e7d-a34b-55bb1eb55a07",
   "metadata": {},
   "outputs": [],
   "source": []
  },
  {
   "cell_type": "markdown",
   "id": "26f58fe3-adc4-4806-9cbd-c17a797f89e5",
   "metadata": {},
   "source": [
    "## Set X test and train"
   ]
  },
  {
   "cell_type": "code",
   "execution_count": 44,
   "id": "4040eec1-9b3c-4a22-a893-4bb8011c3a49",
   "metadata": {},
   "outputs": [
    {
     "name": "stdout",
     "output_type": "stream",
     "text": [
      "CPU times: user 22 s, sys: 9.16 ms, total: 22.1 s\n",
      "Wall time: 22.2 s\n"
     ]
    },
    {
     "data": {
      "text/plain": [
       "<matplotlib.image.AxesImage at 0x7f8824935ed0>"
      ]
     },
     "execution_count": 46,
     "metadata": {},
     "output_type": "execute_result"
    },
    {
     "data": {
      "image/png": "[encoded data removed]",
      "text/plain": [
       "<Figure size 432x288 with 1 Axes>"
      ]
     },
     "metadata": {
      "needs_background": "light"
     },
     "output_type": "display_data"
    }
   ],
   "source": [
    "%%time\n",
    "second_feature = 'rzmc\n",
    "# Make training dataset\n",
    "if multi_features == 1:\n",
    "    X_data = np.reshape(np.array(all_data_df[second_feature][offset:train_size]), (train_size-offset, 1))\n",
    "    for ix,iy in np.ndindex(X_data.shape):  \n",
    "        X_data[ix,iy] = get_img_arr2(X_data[ix,iy], conv_snowcap_img(ix, 256, 256))\n",
    "\n",
    "    \n",
    "X_train = np.array(X_data.tolist())\n",
    "X_train.shape\n",
    "plt.title(str(str(second_feature) + ' + snowpack'))\n",
    "plt.imshow(X_train[122][0])        \n"
   ]
  },
  {
   "cell_type": "code",
   "execution_count": 28,
   "id": "0473cf7e-d295-4b6d-bd8f-2f39c5eb66f6",
   "metadata": {},
   "outputs": [
    {
     "data": {
      "image/png": "[encoded data removed]",
      "text/plain": [
       "<Figure size 432x288 with 1 Axes>"
      ]
     },
     "metadata": {
      "needs_background": "light"
     },
     "output_type": "display_data"
    }
   ],
   "source": [
    "# Make test dataset\n",
    "# multi_features = 1\n",
    "if multi_features == 1:\n",
    "\n",
    "    X_test_data = np.reshape(np.array(all_data_df[second_feature][train_size:]), (all_data_df.shape[0] - train_size, 1))\n",
    "    for ix,iy in np.ndindex(X_test_data.shape):\n",
    "        #X_data[ix,iy] = tf.image.resize(X_data[ix,iy], [img_height, img_width])\n",
    "        X_test_data[ix,iy] = get_img_arr2(X_test_data[ix,iy], \n",
    "                            conv_snowcap_img((train_size-offset) + ix, 256, 256))\n",
    "\n",
    "    X_test = np.array(X_test_data.tolist())\n",
    "    plt.imshow(X_test[0][0])\n",
    "    np.shape(X_test[0][0])"
   ]
  },
  {
   "cell_type": "code",
   "execution_count": null,
   "id": "1eaee0f4-f00b-4089-9e5e-c21a419ec2d8",
   "metadata": {},
   "outputs": [],
   "source": []
  },
  {
   "cell_type": "markdown",
   "id": "ddc7cb8e-2e78-4fd0-ba40-cb3fcda89efc",
   "metadata": {
    "tags": []
   },
   "source": []
  },
  {
   "cell_type": "code",
   "execution_count": 29,
   "id": "085d5008-95be-4876-84da-4d1f737b4e36",
   "metadata": {},
   "outputs": [],
   "source": [
    "# if multi_features == 0:\n",
    "#     X_data = np.reshape(np.array(all_data_df['Color_SCA_Image'][0:train_size]), (train_size, 1))\n",
    "#     for ix,iy in np.ndindex(X_data.shape):\n",
    "#         #X_data[ix,iy] = tf.image.resize(X_data[ix,iy], [img_height, img_width])\n",
    "#         X_data[ix,iy] = np.array(X_data[ix,iy].resize((img_height, img_width)))\n",
    "#     X_train = np.array(X_data.tolist())\n",
    "#     X_train.shape"
   ]
  },
  {
   "cell_type": "code",
   "execution_count": 30,
   "id": "ca486225-50a8-48f6-a69b-639b43f7218f",
   "metadata": {},
   "outputs": [],
   "source": [
    "\n",
    "# model_savestr = str('base_model_' + str(second_feature))\n",
    "# model_savestr"
   ]
  },
  {
   "cell_type": "code",
   "execution_count": null,
   "id": "8b8416b1-7a02-4448-a6c3-475cd505cd0b",
   "metadata": {},
   "outputs": [],
   "source": []
  },
  {
   "cell_type": "code",
   "execution_count": 31,
   "id": "c56a57f6-db75-4cf6-8c20-fff93201af53",
   "metadata": {},
   "outputs": [],
   "source": [
    "# pause = input()"
   ]
  },
  {
   "cell_type": "markdown",
   "id": "7914cf25-ff6f-4181-ace4-701e3639b5d0",
   "metadata": {
    "tags": []
   },
   "source": [
    "## New (regional) models\n"
   ]
  },
  {
   "cell_type": "code",
   "execution_count": 32,
   "id": "0b0cd8fd-1c7a-4e63-9ad7-24cd87f2ccd0",
   "metadata": {},
   "outputs": [
    {
     "name": "stdout",
     "output_type": "stream",
     "text": [
      "CPU times: user 31 µs, sys: 2 µs, total: 33 µs\n",
      "Wall time: 15.3 µs\n"
     ]
    }
   ],
   "source": [
    "%%time\n",
    "# train_models = 0\n",
    "if train_models == 0:\n",
    "    Y_train = all_data_df['catdef'][0:train_size].map(lambda x: np.nan_to_num(x, nan=0).flatten()).tolist()\n",
    "    base_model = setup('base_model')\n",
    "    base_model.compile(optimizer='adam', loss='mean_absolute_error', metrics=[tf.keras.metrics.MeanAbsolutePercentageError()])\n",
    "    history = base_model.fit(x=np.array(X_train, np.float32), y=np.array(Y_train, np.float32), validation_split=0.33, epochs=epochs, verbose=1)\n",
    "    # pred_base_model = get_predictions(all_data_df, base_model, test_months)\n",
    "    pred = base_model.predict(X_test[0].reshape(1, 1, 152, 324, 4))\n",
    "    quick_perf_base = quick_eval(mask_list(pred[0],flat_mask,9999), all_data_df['CA_catdef'][train_size])\n",
    "\n",
    "    if save_models == 1:\n",
    "        model_savestr = str('base_model_' + str(second_feature))\n",
    "        if multi_features == 0:\n",
    "            model_savestr = str('models/' + model_savestr)\n",
    "        if multi_features == 1:\n",
    "            model_savestr = str('2_input_models/' + model_savestr)\n",
    "        base_model.save(model_savestr)  \n",
    "            \n",
    "    del base_model\n",
    "\n",
    "    tf.keras.backend.clear_session()\n",
    "    clear_output(wait=True)\n",
    "    print(quick_perf_base)"
   ]
  },
  {
   "cell_type": "code",
   "execution_count": null,
   "id": "8241e28d-778f-495e-a183-36f343579086",
   "metadata": {},
   "outputs": [],
   "source": []
  },
  {
   "cell_type": "code",
   "execution_count": null,
   "id": "b905e843-cc29-40d0-96f3-b10db4b7bb06",
   "metadata": {},
   "outputs": [],
   "source": []
  },
  {
   "cell_type": "code",
   "execution_count": null,
   "id": "0791fef5-f594-4314-ac64-57f50b273708",
   "metadata": {},
   "outputs": [],
   "source": []
  },
  {
   "cell_type": "code",
   "execution_count": null,
   "id": "61d75e06-ad1e-48cb-b779-f7183b0aff56",
   "metadata": {},
   "outputs": [],
   "source": []
  },
  {
   "cell_type": "code",
   "execution_count": 33,
   "id": "36578412-dfdb-49b9-8a4c-7cde72b2f7f7",
   "metadata": {},
   "outputs": [
    {
     "name": "stdout",
     "output_type": "stream",
     "text": [
      "CPU times: user 3 µs, sys: 0 ns, total: 3 µs\n",
      "Wall time: 5.96 µs\n"
     ]
    }
   ],
   "source": [
    "%%time\n",
    "if train_models == 1:\n",
    "    Y_train = all_data_df['catdef_region_1'][0:train_size].map(lambda x: np.nan_to_num(x, nan=0).flatten()).tolist()\n",
    "    model_1 = setup('model_1')\n",
    "    model_1.compile(optimizer='adam', loss='mean_absolute_error', metrics=[tf.keras.metrics.MeanAbsolutePercentageError()])\n",
    "    history = model_1.fit(x=np.array(X_train, np.float32), y=np.array(Y_train, np.float32), validation_split=0.33, epochs=epochs, verbose=1)\n",
    "    pred_model_1 = get_predictions(all_data_df, model_1, test_months)\n",
    "    # quick_perf_1 = quick_eval(mask_list(pred_model_1[0],flat_mask,9999), all_data_df['catdef_region_1'][train_size])\n",
    "\n",
    "    if save_models == 1:\n",
    "        model_savestr = str('model_1_' + str(second_feature))\n",
    "        if multi_features == 0:\n",
    "            model_savestr = str('models/' + model_savestr)\n",
    "        if multi_features == 1:\n",
    "            model_savestr = str('2_input_models/' + model_savestr)\n",
    "        model_1.save(model_savestr)  \n",
    "            \n",
    "            \n",
    "    del model_1\n",
    "    tf.keras.backend.clear_session()\n",
    "    clear_output()\n",
    "    # print(quick_perf_1)"
   ]
  },
  {
   "cell_type": "code",
   "execution_count": null,
   "id": "f22f345f-f431-4b91-a744-1e32be7e68f0",
   "metadata": {},
   "outputs": [],
   "source": []
  },
  {
   "cell_type": "code",
   "execution_count": 34,
   "id": "83670e66-8946-4a45-a1f5-77871165b977",
   "metadata": {},
   "outputs": [
    {
     "name": "stdout",
     "output_type": "stream",
     "text": [
      "CPU times: user 3 µs, sys: 1 µs, total: 4 µs\n",
      "Wall time: 6.44 µs\n"
     ]
    }
   ],
   "source": [
    "%%time\n",
    "if train_models == 2:\n",
    "    Y_train = all_data_df['catdef_region_2'][0:train_size].map(lambda x: np.nan_to_num(x, nan=0).flatten()).tolist()\n",
    "    model_2 = setup('model_2')\n",
    "    model_2.compile(optimizer='adam', loss='mean_absolute_error', metrics=[tf.keras.metrics.MeanAbsolutePercentageError()])\n",
    "    history = model_2.fit(x=np.array(X_train, np.float32), y=np.array(Y_train, np.float32), validation_split=0.33, epochs=epochs, verbose=1)\n",
    "    pred_model_2 = get_predictions(all_data_df, model_2, test_months)\n",
    "    # quick_perf_2 = quick_eval(mask_list(pred_model_2[0],flat_mask,9999), all_data_df['catdef_region_2'][train_size])\n",
    "    \n",
    "    if save_models == 1:\n",
    "        model_savestr = str('model_2_' + str(second_feature))\n",
    "        if multi_features == 0:\n",
    "            model_savestr = str('models/' + model_savestr)\n",
    "        if multi_features == 1:\n",
    "            model_savestr = str('2_input_models/' + model_savestr)\n",
    "        model_2.save(model_savestr)  \n",
    "            \n",
    "                    \n",
    "    del model_2\n",
    "    tf.keras.backend.clear_session()\n",
    "    \n",
    "    clear_output(wait=True)\n",
    "    # print(quick_perf_2)"
   ]
  },
  {
   "cell_type": "code",
   "execution_count": null,
   "id": "71452521-daf1-4a1b-96d7-46ac62531771",
   "metadata": {},
   "outputs": [],
   "source": []
  },
  {
   "cell_type": "code",
   "execution_count": 35,
   "id": "fea29ba6-5fbe-40c3-b6a5-46577e054faa",
   "metadata": {},
   "outputs": [
    {
     "name": "stdout",
     "output_type": "stream",
     "text": [
      "CPU times: user 4 µs, sys: 0 ns, total: 4 µs\n",
      "Wall time: 6.91 µs\n"
     ]
    }
   ],
   "source": [
    "%%time\n",
    "if train_models == 3:\n",
    "    Y_train = all_data_df['catdef_region_3'][0:train_size].map(lambda x: np.nan_to_num(x, nan=0).flatten()).tolist()\n",
    "    model_3 = setup('model_3')\n",
    "    model_3.compile(optimizer='adam', loss='mean_absolute_error', metrics=[tf.keras.metrics.MeanAbsolutePercentageError()])\n",
    "    history = model_3.fit(x=np.array(X_train, np.float32), y=np.array(Y_train, np.float32), validation_split=0.33, epochs=epochs, verbose=1)\n",
    "    pred_model_3 = get_predictions(all_data_df, model_3, test_months)\n",
    "    # quick_perf_3 = quick_eval(mask_list(pred_model_3[0],flat_mask,9999), all_data_df['catdef_region_3'][train_size])\n",
    "    \n",
    "    if save_models == 1:\n",
    "        model_savestr = str('model_3_' + str(second_feature))\n",
    "        if multi_features == 0:\n",
    "            model_savestr = str('models/' + model_savestr)\n",
    "        if multi_features == 1:\n",
    "            model_savestr = str('2_input_models/' + model_savestr)\n",
    "        model_3.save(model_savestr)  \n",
    "            \n",
    "    del model_3\n",
    "\n",
    "    tf.keras.backend.clear_session()\n",
    "    clear_output(wait=True)\n",
    "    # print(quick_perf_3)"
   ]
  },
  {
   "cell_type": "code",
   "execution_count": null,
   "id": "104b85a6-9bae-4674-b9a8-552806b07409",
   "metadata": {},
   "outputs": [],
   "source": []
  },
  {
   "cell_type": "code",
   "execution_count": 36,
   "id": "64d59adc-0002-4aea-b12d-1c769aaca1c1",
   "metadata": {},
   "outputs": [
    {
     "name": "stdout",
     "output_type": "stream",
     "text": [
      "CPU times: user 3 µs, sys: 0 ns, total: 3 µs\n",
      "Wall time: 5.96 µs\n"
     ]
    }
   ],
   "source": [
    "%%time\n",
    "if train_models == 4:\n",
    "   \n",
    "    Y_train = all_data_df['catdef_region_4'][0:train_size].map(lambda x: np.nan_to_num(x, nan=0).flatten()).tolist()\n",
    "    model_4 = setup('model_4')\n",
    "    model_4.compile(optimizer='adam', loss='mean_absolute_error', metrics=[tf.keras.metrics.MeanAbsolutePercentageError()])\n",
    "    history = model_4.fit(x=np.array(X_train, np.float32), y=np.array(Y_train, np.float32), validation_split=0.33, epochs=epochs, verbose=1)\n",
    "    # pred_model_4 = get_predictions(all_data_df, model_4, test_months)\n",
    "    # quick_perf_4 = quick_eval(mask_list(pred_model_4[0],flat_mask,9999), all_data_df['catdef_region_4'][train_size])\n",
    "    \n",
    "    if save_models == 1:\n",
    "        model_savestr = str('model_4_' + str(second_feature))\n",
    "        if multi_features == 0:\n",
    "            model_savestr = str('models/' + model_savestr)\n",
    "        if multi_features == 1:\n",
    "            model_savestr = str('2_input_models/' + model_savestr)\n",
    "        model_4.save(model_savestr)  \n",
    "        \n",
    "    del model_4\n",
    "    tf.keras.backend.clear_session()\n",
    "\n",
    "    clear_output(wait=True)\n",
    "    # print(quick_perf_4)"
   ]
  },
  {
   "cell_type": "raw",
   "id": "cb27e8c9-7406-41a9-8447-0b7eaf05eab0",
   "metadata": {},
   "source": [
    "CPU times: user 4min 38s, sys: 1min 55s, total: 6min 34s\n",
    "Wall time: 10min 11s"
   ]
  },
  {
   "cell_type": "code",
   "execution_count": null,
   "id": "e7c41578-2db4-437a-986a-302c6a43919a",
   "metadata": {},
   "outputs": [],
   "source": []
  },
  {
   "cell_type": "code",
   "execution_count": 37,
   "id": "0eea0a38-6e2c-4718-acb0-2e52e6074135",
   "metadata": {},
   "outputs": [
    {
     "name": "stdout",
     "output_type": "stream",
     "text": [
      "CPU times: user 4 µs, sys: 0 ns, total: 4 µs\n",
      "Wall time: 6.2 µs\n"
     ]
    }
   ],
   "source": [
    "%%time\n",
    "if train_models == 5:\n",
    "    Y_train = all_data_df['catdef_region_5'][0:train_size].map(lambda x: np.nan_to_num(x, nan=0).flatten()).tolist()\n",
    "    model_5 = setup('model_5')\n",
    "    model_5.compile(optimizer='adam', loss='mean_absolute_error', metrics=[tf.keras.metrics.MeanAbsolutePercentageError()])\n",
    "    history = model_5.fit(x=np.array(X_train, np.float32), y=np.array(Y_train, np.float32), validation_split=0.33, epochs=epochs, verbose=1)\n",
    "    # pred_model_5 = get_predictions(all_data_df, model_5, test_months)\n",
    "    # quick_perf_5 = quick_eval(mask_list(pred_model_5[0],flat_mask,9999), all_data_df['catdef_region_5'][train_size])\n",
    "    \n",
    "    if save_models == 1:\n",
    "        model_savestr = str('model_5_' + str(second_feature))\n",
    "        if multi_features == 0:\n",
    "            model_savestr = str('models/' + model_savestr)\n",
    "        if multi_features == 1:\n",
    "            model_savestr = str('2_input_models/' + model_savestr)\n",
    "        model_5.save(model_savestr)  \n",
    "        \n",
    "    del model_5\n",
    "    tf.keras.backend.clear_session()\n",
    "    clear_output(wait=True)\n",
    "    # print(quick_perf_5)"
   ]
  },
  {
   "cell_type": "code",
   "execution_count": null,
   "id": "49105310-b16f-4422-9e13-faea647d2f52",
   "metadata": {},
   "outputs": [],
   "source": []
  },
  {
   "cell_type": "code",
   "execution_count": 38,
   "id": "29d020a8-8992-416a-8893-28f4451a820c",
   "metadata": {},
   "outputs": [
    {
     "name": "stdout",
     "output_type": "stream",
     "text": [
      "CPU times: user 3 µs, sys: 0 ns, total: 3 µs\n",
      "Wall time: 5.96 µs\n"
     ]
    }
   ],
   "source": [
    "%%time\n",
    "if train_models == 6:\n",
    "    Y_train = all_data_df['catdef_region_6'][0:train_size].map(lambda x: np.nan_to_num(x, nan=0).flatten()).tolist()\n",
    "    model_6 = setup('model_6')\n",
    "    model_6.compile(optimizer='adam', loss='mean_absolute_error', metrics=[tf.keras.metrics.MeanAbsolutePercentageError()])\n",
    "    history = model_6.fit(x=np.array(X_train, np.float32), y=np.array(Y_train, np.float32), validation_split=0.33, epochs=epochs, verbose=1)\n",
    "    # pred_model_6 = get_predictions(all_data_df, model_6, test_months)\n",
    "    # quick_perf_6 = quick_eval(mask_list(pred_model_6[0],flat_mask,9999), all_data_df['catdef_region_6'][train_size])\n",
    "    \n",
    "    if save_models == 1:\n",
    "        model_savestr = str('model_6_' + str(second_feature))\n",
    "        if multi_features == 0:\n",
    "            model_savestr = str('models/' + model_savestr)\n",
    "        if multi_features == 1:\n",
    "            model_savestr = str('2_input_models/' + model_savestr)\n",
    "        model_6.save(model_savestr)  \n",
    "        \n",
    "    del model_6\n",
    "    tf.keras.backend.clear_session()\n",
    "    clear_output(wait=True)\n",
    "    # print(quick_perf_6)"
   ]
  },
  {
   "cell_type": "code",
   "execution_count": 39,
   "id": "975d4d65-b88c-4b17-bc0b-4d9d7a2cdb1c",
   "metadata": {},
   "outputs": [
    {
     "name": "stdout",
     "output_type": "stream",
     "text": [
      "CPU times: user 3 µs, sys: 0 ns, total: 3 µs\n",
      "Wall time: 5.72 µs\n"
     ]
    }
   ],
   "source": [
    "%%time\n",
    "if train_models == 7:\n",
    "    Y_train = all_data_df['catdef_region_7'][0:train_size].map(lambda x: np.nan_to_num(x, nan=0).flatten()).tolist()\n",
    "    model_7 = setup('model_7')\n",
    "    model_7.compile(optimizer='adam', loss='mean_absolute_error', metrics=[tf.keras.metrics.MeanAbsolutePercentageError()])\n",
    "    history = model_7.fit(x=np.array(X_train, np.float32), y=np.array(Y_train, np.float32), validation_split=0.33, epochs=epochs, verbose=1)\n",
    "    # pred_model_7 = get_predictions(all_data_df, model_7, test_months)\n",
    "    # quick_perf_7 = quick_eval(mask_list(pred_model_7[0],flat_mask,9999), all_data_df['catdef_region_7'][train_size])\n",
    "    \n",
    "    if save_models == 1:\n",
    "        model_savestr = str('model_7_' + str(second_feature))\n",
    "        if multi_features == 0:\n",
    "            model_savestr = str('models/' + model_savestr)\n",
    "        if multi_features == 1:\n",
    "            model_savestr = str('2_input_models/' + model_savestr)\n",
    "        model_7.save(model_savestr)  \n",
    "        \n",
    "    del model_7\n",
    "    tf.keras.backend.clear_session()\n",
    "    clear_output(wait=True)\n",
    "    # print(quick_perf_7) "
   ]
  },
  {
   "cell_type": "code",
   "execution_count": 40,
   "id": "c5e20973-c2f5-4ecd-ab55-0509eb2929d1",
   "metadata": {},
   "outputs": [
    {
     "name": "stdout",
     "output_type": "stream",
     "text": [
      "CPU times: user 4 µs, sys: 0 ns, total: 4 µs\n",
      "Wall time: 6.44 µs\n"
     ]
    }
   ],
   "source": [
    "%%time\n",
    "if train_models == 8:\n",
    "    Y_train = all_data_df['catdef_region_8'][0:train_size].map(lambda x: np.nan_to_num(x, nan=0).flatten()).tolist()\n",
    "    model_8 = setup('model_8')\n",
    "    model_8.compile(optimizer='adam', loss='mean_absolute_error', metrics=[tf.keras.metrics.MeanAbsolutePercentageError()])\n",
    "    history = model_8.fit(x=np.array(X_train, np.float32), y=np.array(Y_train, np.float32), validation_split=0.33, epochs=epochs, verbose=1)\n",
    "    # pred_model_8 = get_predictions(all_data_df, model_8, test_months)\n",
    "    # quick_perf_8 = quick_eval(mask_list(pred_model_8[0],flat_mask,9999), all_data_df['catdef_region_8'][train_size])\n",
    "    \n",
    "    if save_models == 1:\n",
    "        model_savestr = str('model_8_' + str(second_feature))\n",
    "        if multi_features == 0:\n",
    "            model_savestr = str('models/' + model_savestr)\n",
    "        if multi_features == 1:\n",
    "            model_savestr = str('2_input_models/' + model_savestr)\n",
    "        model_8.save(model_savestr)  \n",
    "        \n",
    "    del model_8\n",
    "    tf.keras.backend.clear_session()\n",
    "    clear_output(wait=True)\n",
    "    # print(quick_perf_8)"
   ]
  },
  {
   "cell_type": "code",
   "execution_count": null,
   "id": "2ba1e07e-6f7f-49e4-994a-4c777d013df2",
   "metadata": {},
   "outputs": [],
   "source": []
  },
  {
   "cell_type": "code",
   "execution_count": 41,
   "id": "fc8d18da-768e-4d6f-a446-9862e392c221",
   "metadata": {},
   "outputs": [
    {
     "name": "stdout",
     "output_type": "stream",
     "text": [
      "CPU times: user 4 µs, sys: 0 ns, total: 4 µs\n",
      "Wall time: 7.15 µs\n"
     ]
    }
   ],
   "source": [
    "%%time\n",
    "if train_models == 9:\n",
    "    Y_train = all_data_df['catdef_region_9'][0:train_size].map(lambda x: np.nan_to_num(x, nan=0).flatten()).tolist()\n",
    "    model_9 = setup('model_9')\n",
    "    model_9.compile(optimizer='adam', loss='mean_absolute_error', metrics=[tf.keras.metrics.MeanAbsolutePercentageError()])\n",
    "    history = model_9.fit(x=np.array(X_train, np.float32), y=np.array(Y_train, np.float32), validation_split=0.33, epochs=epochs, verbose=1)\n",
    "    # pred_model_9 = get_predictions(all_data_df, model_9, test_months)\n",
    "    # quick_perf_9 = quick_eval(mask_list(pred_model_9[0],flat_mask,9999), all_data_df['catdef_region_9'][train_size])\n",
    "    \n",
    "    if save_models == 1:\n",
    "        model_savestr = str('model_9_' + str(second_feature))\n",
    "        if multi_features == 0:\n",
    "            model_savestr = str('models/' + model_savestr)\n",
    "        if multi_features == 1:\n",
    "            model_savestr = str('2_input_models/' + model_savestr)\n",
    "        model_9.save(model_savestr)  \n",
    "        \n",
    "    del model_9\n",
    "    tf.keras.backend.clear_session()\n",
    "    clear_output(wait=True)\n",
    "    # print(quick_perf_9)"
   ]
  },
  {
   "cell_type": "code",
   "execution_count": 42,
   "id": "13ecf211-0b36-47a4-8eeb-bd296f1f1cc8",
   "metadata": {},
   "outputs": [
    {
     "name": "stdout",
     "output_type": "stream",
     "text": [
      "CPU times: user 3 µs, sys: 0 ns, total: 3 µs\n",
      "Wall time: 5.96 µs\n"
     ]
    }
   ],
   "source": [
    "%%time\n",
    "if train_models == 10:\n",
    "    Y_train = all_data_df['catdef_region_10'][0:train_size].map(lambda x: np.nan_to_num(x, nan=0).flatten()).tolist()\n",
    "    model_10 = setup('model_10')\n",
    "    model_10.compile(optimizer='adam', loss='mean_absolute_error', metrics=[tf.keras.metrics.MeanAbsolutePercentageError()])\n",
    "    history = model_10.fit(x=np.array(X_train, np.float32), y=np.array(Y_train, np.float32), validation_split=0.33, epochs=epochs, verbose=1)\n",
    "    # pred_model_10 = get_predictions(all_data_df, model_10, test_months)\n",
    "    # quick_perf_10 = quick_eval(mask_list(pred_model_10[0],flat_mask,9999), all_data_df['catdef_region_10'][train_size])\n",
    "    \n",
    "    if save_models == 1:\n",
    "        model_savestr = str('model_10_' + str(second_feature))\n",
    "        if multi_features == 0:\n",
    "            model_savestr = str('models/' + model_savestr)\n",
    "        if multi_features == 1:\n",
    "            model_savestr = str('2_input_models/' + model_savestr)\n",
    "        model_10.save(model_savestr)  \n",
    "        \n",
    "    del model_10\n",
    "    tf.keras.backend.clear_session()\n",
    "    clear_output(wait=True)\n",
    "    # print(quick_perf_10)"
   ]
  },
  {
   "cell_type": "code",
   "execution_count": null,
   "id": "99e3f51e-62e9-42a6-8510-24f026f700d4",
   "metadata": {},
   "outputs": [],
   "source": []
  },
  {
   "cell_type": "code",
   "execution_count": 43,
   "id": "0e399efd-2fab-426b-8a5b-193f635753d3",
   "metadata": {},
   "outputs": [],
   "source": [
    "if stop == 1:\n",
    "    stahp"
   ]
  },
  {
   "cell_type": "code",
   "execution_count": null,
   "id": "b793ea69-28d6-4b3b-b695-f55b7893445f",
   "metadata": {},
   "outputs": [],
   "source": []
  },
  {
   "cell_type": "markdown",
   "id": "f7fd2d18-5c85-44e9-8d16-8c731453ff3a",
   "metadata": {
    "tags": []
   },
   "source": [
    "# Compile predictions <<<<<<<<<<<<<<<<<<<<<<<<<<<<<<<<<<<<<<<<<<<<<<<<<<<<<<<<<<<<<<<<<<<<<<<<<<<<<<<<<<<"
   ]
  },
  {
   "cell_type": "code",
   "execution_count": 44,
   "id": "c4a84e4d-5fa3-4984-a91d-0af90a7c3ab0",
   "metadata": {},
   "outputs": [],
   "source": [
    " # model = tf.keras.models.load_model('2_input_models/original_model')"
   ]
  },
  {
   "cell_type": "code",
   "execution_count": 47,
   "id": "e6179877-6aaa-41da-88da-a297ac99a4c6",
   "metadata": {},
   "outputs": [
    {
     "name": "stdout",
     "output_type": "stream",
     "text": [
      "CPU times: user 1min 12s, sys: 1min 31s, total: 2min 43s\n",
      "Wall time: 6min 24s\n"
     ]
    }
   ],
   "source": [
    "%%time\n",
    "\n",
    "####  Concat prediction sets from all models into a single df\n",
    "\n",
    "# all_the_predictions = pd.DataFrame()\n",
    "# compile_predictions = 1\n",
    "if compile_predictions == 1:\n",
    "    if multi_features == 0:\n",
    "            model_path = 'models/'\n",
    "    if multi_features == 1:\n",
    "            model_path = '2_input_models/'\n",
    "    # model_names = ['original_model']\n",
    "    # model_names = ['base_model_rzmc', 'model_1_rzmc', 'model_2_rzmc', 'model_3_rzmc', 'model_4_rzmc', 'model_5_rzmc', 'model_6_rzmc', 'model_7_rzmc', 'model_8_rzmc', 'model_9_rzmc', 'model_10_rzmc']\n",
    "    # model_names = ['base_model_RainfC', 'model_1_RainfC', 'model_2_RainfC', 'model_3_RainfC', 'model_4_RainfC', 'model_5_RainfC', 'model_6_RainfC', 'model_7_RainfC', 'model_8_RainfC', 'model_9_RainfC', 'model_10_RainfC']\n",
    "    # model_names = ['base_model_srfexc', 'model_1_srfexc', 'model_2_srfexc', 'model_3_srfexc', 'model_4_srfexc', 'model_5_srfexc', 'model_6_srfexc', 'model_7_srfexc', 'model_8_srfexc', 'model_9_srfexc', 'model_10_srfexc']\n",
    "    model_names = ['base_model_evap', 'model_1_evap', 'model_2_evap', 'model_3_evap', 'model_4_evap', 'model_5_evap', 'model_6_evap', 'model_7_evap', 'model_8_evap', 'model_9_evap', 'model_10_evap']\n",
    "\n",
    "\n",
    "\n",
    "    # model_names = ['original_model', 'model_1', 'model_2', 'model_3', 'model_4', 'model_5', 'model_6', 'model_7', 'model_8', 'model_9', 'model_10']\n",
    "\n",
    "#     # model_names = ['base_model', 'model_1']\n",
    "    start_predictions = pd.DataFrame()\n",
    "\n",
    "    for i in tqdm(model_names):\n",
    "        model_temp = pd.Series()\n",
    "        model_temp.rename(str('model_temp_' + str(i)))\n",
    "        load_model = str(model_path + i)\n",
    "        model = tf.keras.models.load_model(load_model)\n",
    "        if start_predictions.empty:\n",
    "            start_predictions = get_predictions_mult(X_test, model, test_months)\n",
    "        else: \n",
    "            add_predictions = get_predictions_mult(X_test, model, test_months)\n",
    "            all_the_predictions = pd.concat([start_predictions, add_predictions], ignore_index=True)\n",
    "            start_predictions = all_the_predictions\n",
    "        del model\n",
    "        tf.keras.backend.clear_session()\n",
    "    clear_output()\n",
    "    all_the_predictions\n",
    "#     # # fig = plt.figure(figsize=(40,4))\n",
    "#     # # plt.subplot(1,12,1)\n",
    "#     # # plt.imshow(pred_base_model[26].reshape(33,37), cmap = 'winter')"
   ]
  },
  {
   "cell_type": "code",
   "execution_count": 48,
   "id": "7060699b-e182-47c9-b3fc-3238ea608895",
   "metadata": {},
   "outputs": [
    {
     "data": {
      "text/html": [
       "<div>\n",
       "<style scoped>\n",
       "    .dataframe tbody tr th:only-of-type {\n",
       "        vertical-align: middle;\n",
       "    }\n",
       "\n",
       "    .dataframe tbody tr th {\n",
       "        vertical-align: top;\n",
       "    }\n",
       "\n",
       "    .dataframe thead th {\n",
       "        text-align: right;\n",
       "    }\n",
       "</style>\n",
       "<table border=\"1\" class=\"dataframe\">\n",
       "  <thead>\n",
       "    <tr style=\"text-align: right;\">\n",
       "      <th></th>\n",
       "      <th>Month</th>\n",
       "      <th>Model</th>\n",
       "      <th>y_prediction</th>\n",
       "    </tr>\n",
       "  </thead>\n",
       "  <tbody>\n",
       "    <tr>\n",
       "      <th>0</th>\n",
       "      <td>123</td>\n",
       "      <td>base_model_evap</td>\n",
       "      <td>[3.862039, -3.3022914, 1.1359739, 94.85064, 12...</td>\n",
       "    </tr>\n",
       "    <tr>\n",
       "      <th>1</th>\n",
       "      <td>124</td>\n",
       "      <td>base_model_evap</td>\n",
       "      <td>[3.514492, -3.7944584, 1.6374869, 104.68668, 1...</td>\n",
       "    </tr>\n",
       "    <tr>\n",
       "      <th>2</th>\n",
       "      <td>125</td>\n",
       "      <td>base_model_evap</td>\n",
       "      <td>[3.5580626, -3.9784856, 2.0558534, 127.942924,...</td>\n",
       "    </tr>\n",
       "    <tr>\n",
       "      <th>3</th>\n",
       "      <td>126</td>\n",
       "      <td>base_model_evap</td>\n",
       "      <td>[4.3205433, -4.260375, 2.2176697, 186.0635, 23...</td>\n",
       "    </tr>\n",
       "    <tr>\n",
       "      <th>4</th>\n",
       "      <td>127</td>\n",
       "      <td>base_model_evap</td>\n",
       "      <td>[5.376707, -4.8499217, 2.6120586, 256.22867, 3...</td>\n",
       "    </tr>\n",
       "    <tr>\n",
       "      <th>...</th>\n",
       "      <td>...</td>\n",
       "      <td>...</td>\n",
       "      <td>...</td>\n",
       "    </tr>\n",
       "    <tr>\n",
       "      <th>490</th>\n",
       "      <td>163</td>\n",
       "      <td>model_10_evap</td>\n",
       "      <td>[0.061682865, 0.1175009, 0.04855023, -0.001473...</td>\n",
       "    </tr>\n",
       "    <tr>\n",
       "      <th>491</th>\n",
       "      <td>164</td>\n",
       "      <td>model_10_evap</td>\n",
       "      <td>[0.14317818, 0.062075227, 0.075431965, 0.04008...</td>\n",
       "    </tr>\n",
       "    <tr>\n",
       "      <th>492</th>\n",
       "      <td>165</td>\n",
       "      <td>model_10_evap</td>\n",
       "      <td>[0.20396121, 0.041110396, 0.06409045, 0.011932...</td>\n",
       "    </tr>\n",
       "    <tr>\n",
       "      <th>493</th>\n",
       "      <td>166</td>\n",
       "      <td>model_10_evap</td>\n",
       "      <td>[0.22053994, 0.12580007, 0.02049618, 0.0222972...</td>\n",
       "    </tr>\n",
       "    <tr>\n",
       "      <th>494</th>\n",
       "      <td>167</td>\n",
       "      <td>model_10_evap</td>\n",
       "      <td>[0.25939962, 0.10946694, 0.051503826, -0.00997...</td>\n",
       "    </tr>\n",
       "  </tbody>\n",
       "</table>\n",
       "<p>495 rows × 3 columns</p>\n",
       "</div>"
      ],
      "text/plain": [
       "     Month            Model                                       y_prediction\n",
       "0      123  base_model_evap  [3.862039, -3.3022914, 1.1359739, 94.85064, 12...\n",
       "1      124  base_model_evap  [3.514492, -3.7944584, 1.6374869, 104.68668, 1...\n",
       "2      125  base_model_evap  [3.5580626, -3.9784856, 2.0558534, 127.942924,...\n",
       "3      126  base_model_evap  [4.3205433, -4.260375, 2.2176697, 186.0635, 23...\n",
       "4      127  base_model_evap  [5.376707, -4.8499217, 2.6120586, 256.22867, 3...\n",
       "..     ...              ...                                                ...\n",
       "490    163    model_10_evap  [0.061682865, 0.1175009, 0.04855023, -0.001473...\n",
       "491    164    model_10_evap  [0.14317818, 0.062075227, 0.075431965, 0.04008...\n",
       "492    165    model_10_evap  [0.20396121, 0.041110396, 0.06409045, 0.011932...\n",
       "493    166    model_10_evap  [0.22053994, 0.12580007, 0.02049618, 0.0222972...\n",
       "494    167    model_10_evap  [0.25939962, 0.10946694, 0.051503826, -0.00997...\n",
       "\n",
       "[495 rows x 3 columns]"
      ]
     },
     "execution_count": 48,
     "metadata": {},
     "output_type": "execute_result"
    }
   ],
   "source": [
    "all_the_predictions"
   ]
  },
  {
   "cell_type": "markdown",
   "id": "36ffd22f-b44e-4a93-9d3f-18ffff65a18a",
   "metadata": {},
   "source": [
    "# Load/save predictions"
   ]
  },
  {
   "cell_type": "code",
   "execution_count": 49,
   "id": "bcacfa5f-d242-410d-a493-a16a10de9be5",
   "metadata": {},
   "outputs": [],
   "source": [
    "#### save compiled pred to .pkl\n",
    "\n",
    "# compile_predictions = 1\n",
    "if compile_predictions == 1:\n",
    "    pred_savestr = str('all_predictions_' + str(second_feature) + '.pkl')\n",
    "    if multi_features == 0:\n",
    "         path = str('./data/' + pred_savestr)\n",
    "    if multi_features == 1:\n",
    "         path = str('./2_input_data/' + pred_savestr)\n",
    "    with open(path, \"wb\") as fh:\n",
    "      pickle.dump(all_the_predictions, fh)"
   ]
  },
  {
   "cell_type": "code",
   "execution_count": 50,
   "id": "161ab820-3b52-4a0a-9570-11dea14bb485",
   "metadata": {},
   "outputs": [],
   "source": [
    "###### Reload saved predictions (.pkl file)\n",
    "compile_predictions = 1\n",
    "\n",
    "if compile_predictions == 1:\n",
    "    pred_savestr = str('all_predictions_' + str(second_feature) + ' (1).pkl')\n",
    "    if multi_features == 0:\n",
    "         path = str('./data/' + pred_savestr)\n",
    "    if multi_features == 1:\n",
    "         path = str('./2_input_data/' + pred_savestr)\n",
    "    with open(path, \"rb\") as fh:\n",
    "      loaded_predictions = pickle.load(fh)\n",
    "    loaded_predictions.head(5)"
   ]
  },
  {
   "cell_type": "code",
   "execution_count": 51,
   "id": "9b277dc4-331d-4c10-aac4-380e20a3722f",
   "metadata": {},
   "outputs": [
    {
     "data": {
      "text/html": [
       "<div>\n",
       "<style scoped>\n",
       "    .dataframe tbody tr th:only-of-type {\n",
       "        vertical-align: middle;\n",
       "    }\n",
       "\n",
       "    .dataframe tbody tr th {\n",
       "        vertical-align: top;\n",
       "    }\n",
       "\n",
       "    .dataframe thead th {\n",
       "        text-align: right;\n",
       "    }\n",
       "</style>\n",
       "<table border=\"1\" class=\"dataframe\">\n",
       "  <thead>\n",
       "    <tr style=\"text-align: right;\">\n",
       "      <th></th>\n",
       "      <th>Month</th>\n",
       "      <th>Model</th>\n",
       "      <th>y_prediction</th>\n",
       "    </tr>\n",
       "  </thead>\n",
       "  <tbody>\n",
       "    <tr>\n",
       "      <th>0</th>\n",
       "      <td>123</td>\n",
       "      <td>base_model_evap</td>\n",
       "      <td>[3.862039, -3.3022914, 1.1359739, 94.85064, 12...</td>\n",
       "    </tr>\n",
       "    <tr>\n",
       "      <th>1</th>\n",
       "      <td>124</td>\n",
       "      <td>base_model_evap</td>\n",
       "      <td>[3.514492, -3.7944584, 1.6374869, 104.68668, 1...</td>\n",
       "    </tr>\n",
       "    <tr>\n",
       "      <th>2</th>\n",
       "      <td>125</td>\n",
       "      <td>base_model_evap</td>\n",
       "      <td>[3.5580626, -3.9784856, 2.0558534, 127.942924,...</td>\n",
       "    </tr>\n",
       "    <tr>\n",
       "      <th>3</th>\n",
       "      <td>126</td>\n",
       "      <td>base_model_evap</td>\n",
       "      <td>[4.3205433, -4.260375, 2.2176697, 186.0635, 23...</td>\n",
       "    </tr>\n",
       "    <tr>\n",
       "      <th>4</th>\n",
       "      <td>127</td>\n",
       "      <td>base_model_evap</td>\n",
       "      <td>[5.376707, -4.8499217, 2.6120586, 256.22867, 3...</td>\n",
       "    </tr>\n",
       "    <tr>\n",
       "      <th>...</th>\n",
       "      <td>...</td>\n",
       "      <td>...</td>\n",
       "      <td>...</td>\n",
       "    </tr>\n",
       "    <tr>\n",
       "      <th>490</th>\n",
       "      <td>163</td>\n",
       "      <td>model_10_evap</td>\n",
       "      <td>[0.061682865, 0.1175009, 0.04855023, -0.001473...</td>\n",
       "    </tr>\n",
       "    <tr>\n",
       "      <th>491</th>\n",
       "      <td>164</td>\n",
       "      <td>model_10_evap</td>\n",
       "      <td>[0.14317818, 0.062075227, 0.075431965, 0.04008...</td>\n",
       "    </tr>\n",
       "    <tr>\n",
       "      <th>492</th>\n",
       "      <td>165</td>\n",
       "      <td>model_10_evap</td>\n",
       "      <td>[0.20396121, 0.041110396, 0.06409045, 0.011932...</td>\n",
       "    </tr>\n",
       "    <tr>\n",
       "      <th>493</th>\n",
       "      <td>166</td>\n",
       "      <td>model_10_evap</td>\n",
       "      <td>[0.22053994, 0.12580007, 0.02049618, 0.0222972...</td>\n",
       "    </tr>\n",
       "    <tr>\n",
       "      <th>494</th>\n",
       "      <td>167</td>\n",
       "      <td>model_10_evap</td>\n",
       "      <td>[0.25939962, 0.10946694, 0.051503826, -0.00997...</td>\n",
       "    </tr>\n",
       "  </tbody>\n",
       "</table>\n",
       "<p>495 rows × 3 columns</p>\n",
       "</div>"
      ],
      "text/plain": [
       "     Month            Model                                       y_prediction\n",
       "0      123  base_model_evap  [3.862039, -3.3022914, 1.1359739, 94.85064, 12...\n",
       "1      124  base_model_evap  [3.514492, -3.7944584, 1.6374869, 104.68668, 1...\n",
       "2      125  base_model_evap  [3.5580626, -3.9784856, 2.0558534, 127.942924,...\n",
       "3      126  base_model_evap  [4.3205433, -4.260375, 2.2176697, 186.0635, 23...\n",
       "4      127  base_model_evap  [5.376707, -4.8499217, 2.6120586, 256.22867, 3...\n",
       "..     ...              ...                                                ...\n",
       "490    163    model_10_evap  [0.061682865, 0.1175009, 0.04855023, -0.001473...\n",
       "491    164    model_10_evap  [0.14317818, 0.062075227, 0.075431965, 0.04008...\n",
       "492    165    model_10_evap  [0.20396121, 0.041110396, 0.06409045, 0.011932...\n",
       "493    166    model_10_evap  [0.22053994, 0.12580007, 0.02049618, 0.0222972...\n",
       "494    167    model_10_evap  [0.25939962, 0.10946694, 0.051503826, -0.00997...\n",
       "\n",
       "[495 rows x 3 columns]"
      ]
     },
     "execution_count": 51,
     "metadata": {},
     "output_type": "execute_result"
    }
   ],
   "source": [
    "loaded_predictions"
   ]
  },
  {
   "cell_type": "code",
   "execution_count": null,
   "id": "633041a3-c4f9-42da-8290-9f30a8f47d0c",
   "metadata": {},
   "outputs": [],
   "source": []
  },
  {
   "cell_type": "code",
   "execution_count": null,
   "id": "a0555a14-3e82-4364-9d25-4f89ba909cd0",
   "metadata": {},
   "outputs": [],
   "source": [
    "temp"
   ]
  },
  {
   "cell_type": "markdown",
   "id": "92920388-dbd4-4742-8831-3cb97d07d314",
   "metadata": {
    "jp-MarkdownHeadingCollapsed": true,
    "tags": []
   },
   "source": [
    "# Save summaries"
   ]
  },
  {
   "cell_type": "code",
   "execution_count": null,
   "id": "5ad175f0-45c6-4ee5-a1c4-e5327d4ee14e",
   "metadata": {},
   "outputs": [],
   "source": [
    "# ####  Compare each prediction from a compiled df to the actual y values from the original df (.pkl)\n",
    "\n",
    "\n",
    "# def evaluate_saved_preds(pred_df, data_df, months_array):\n",
    "#     all_results = []\n",
    "#     for month in months_array:\n",
    "#         for region in range(1, 11):\n",
    "#             for model in pred_df['Model'].unique():\n",
    "            \n",
    "#                 region_str = str('catdef_region_' + str(region))\n",
    "#                 # print(month, region_str, model)\n",
    "            \n",
    "#                 # y_pred_model = pred_df['Model'][(pred_df['Model'] == model) & (pred_df['Month'] == month)]\n",
    "#                 # y_pred_month = pred_df['Month'][(pred_df['Model'] == model) & (pred_df['Month'] == month)]\n",
    "#                 y_pred = pred_df['y_prediction'][(pred_df['Model'] == model) & (pred_df['Month'] == month)]\n",
    "                \n",
    "#                 real_ca = np.nan_to_num(data_df['CA_catdef'][month], nan=0)\n",
    "#                 real_region = np.nan_to_num(data_df[region_str][month], nan=0)\n",
    "#                 pred_ca = np.nan_to_num(mask_list(y_pred.tolist()[0], flat_mask, 9999), nan = 0)\n",
    "#                 pred_region = np.nan_to_num(mask_list(y_pred.tolist()[0], flat_mask, region), nan = 0)\n",
    "#                 # print(pred_ca.shape)\n",
    "\n",
    "                \n",
    "# #             #### get actual y val for all catdef or region-specific catdef\n",
    "#                 real_sum_ca = np.sum(real_ca)\n",
    "#                 real_sum_region = np.sum(real_region)\n",
    "\n",
    "#             # ####  Prediction.\n",
    "#                 pred_sum_ca = np.sum(pred_ca)\n",
    "#                 pred_sum_region = np.sum(pred_region)\n",
    "                \n",
    "\n",
    "            \n",
    "#                 ca_accuracy = 1 - abs(real_sum_ca-pred_sum_ca)/real_sum_ca\n",
    "#                 region_accuracy = 1 - abs(real_sum_region-pred_sum_region)/real_sum_region      \n",
    "                \n",
    "#                 ca_mape =  mean_absolute_percentage_error(real_ca, pred_ca.reshape(33,37))\n",
    "#                 region_mape =  mean_absolute_percentage_error(real_region, pred_region.reshape(33,37))\n",
    "                \n",
    "          \n",
    "#                 # print(y_pred)\n",
    "# # \n",
    "            \n",
    "# #             #### calc r-squared\n",
    "#                 r2_ca = r2_score(np.nan_to_num(data_df['catdef'][month], nan=0), y_pred.tolist()[0].reshape(33,37))\n",
    "#                 r2_region = r2_score(np.nan_to_num(data_df[region_str][month], nan=0), y_pred.tolist()[0].reshape(33,37))\n",
    "        \n",
    "#                 result_row = month, region_str, model, region_accuracy, region_mape, ca_accuracy, ca_mape, r2_ca, r2_region\n",
    "#                 # print(result_row)\n",
    "#                 all_results.append(result_row)\n",
    "                \n",
    "\n",
    "#     return all_results\n",
    "# all_results = evaluate_saved_preds(loaded_predictions, all_data_df, test_months) "
   ]
  },
  {
   "cell_type": "code",
   "execution_count": null,
   "id": "0ae20849-a796-4cd3-80b1-2290dabab93c",
   "metadata": {},
   "outputs": [],
   "source": [
    "# all_preds_df = pd.DataFrame(all_results)\n",
    "# # all_preds_df = all_preds_df.columns = ['month', 'x', 'n', 'v', 'CA_pred']\n",
    "# all_preds_df = all_preds_df.rename(columns={0 : \"Month\", 1 : \"Region\", 2 : \"Model\", 3 : \"Region_acc\", 4 : \"Region_mape\", 5 : \"CA_acc\", 6 : \"CA_mape\", 7: \"R2_CA\", 8: \"R2_reg\"})\n",
    "# # all_preds_df.sort_values(by = ['R2_CA'], ascending = False).head()"
   ]
  },
  {
   "cell_type": "code",
   "execution_count": null,
   "id": "12c537e2-2079-4be7-bcf4-e9a6b676ea8b",
   "metadata": {},
   "outputs": [],
   "source": [
    "# all_preds_df.sort_values('Region_acc', ascending = False).head()"
   ]
  },
  {
   "cell_type": "code",
   "execution_count": null,
   "id": "1df9b36c-2328-4373-839c-6c654daab2e6",
   "metadata": {},
   "outputs": [],
   "source": [
    "# original_CA = all_preds_df[all_preds_df['Model'] == 'original_model']\n",
    "# np.average(original_CA.groupby('Region').mean()['CA_acc'])"
   ]
  },
  {
   "cell_type": "code",
   "execution_count": null,
   "id": "ad1e956d-01d4-4baf-a6f6-c32142727245",
   "metadata": {},
   "outputs": [],
   "source": [
    "# base_CA = all_preds_df[all_preds_df['Model'] == 'base_model']\n",
    "# np.average(base_CA.groupby('Region').mean()['CA_acc'])"
   ]
  },
  {
   "cell_type": "code",
   "execution_count": null,
   "id": "68fbb418-1501-44d3-89ff-ed114fcbf693",
   "metadata": {},
   "outputs": [],
   "source": [
    "# all_best = []\n",
    "# best_region = []\n",
    "# for month in all_preds_df['Month'].unique():\n",
    "#     for region in all_preds_df['Region'].unique():\n",
    "#         test_df = all_preds_df[(all_preds_df['Month'] == month) & (all_preds_df['Region'] == region)]\n",
    "#         best = max(test_df['Region_acc'])\n",
    "#         model = test_df['Model'][test_df['Region_acc'] == best].iloc[0]\n",
    "#         best_region = [month, region, best, model]\n",
    "#         all_best.append(best_region)\n",
    "# # all_best"
   ]
  },
  {
   "cell_type": "code",
   "execution_count": null,
   "id": "2fd2ee76-7725-4ccb-bdbb-8e2708a4c320",
   "metadata": {},
   "outputs": [],
   "source": [
    "# best_preds_df = pd.DataFrame(all_best)\n",
    "# # all_preds_df = all_preds_df.columns = ['month', 'x', 'n', 'v', 'CA_pred']\n",
    "# best_preds_df = best_preds_df.rename(columns={0 : \"Month\", 1 : \"Region\", 2 : \"Accuracy\", 3 : \"Model\"})\n",
    "# best_preds_df"
   ]
  },
  {
   "cell_type": "code",
   "execution_count": null,
   "id": "ba76e0f5-46e6-4b7a-bc2e-4fb9eaf9d402",
   "metadata": {},
   "outputs": [],
   "source": [
    "#  for region in best_preds_df['Region'].unique():\n",
    "#         mcnt = best_preds_df[best_preds_df['Region'] == region]\n",
    "#         cnt = mcnt['Model'][mcnt['Model'] != 'original_model'].value_counts().idxmax()\n",
    "#         # cnt = mcnt['Model'].value_counts().idxmax()\n",
    "\n",
    "#         print(str(region), cnt)\n",
    "        \n",
    "                             "
   ]
  },
  {
   "cell_type": "markdown",
   "id": "ba39b246-cf3d-4df5-ad09-e50f4d7d4c94",
   "metadata": {},
   "source": [
    "# Check base accuracy"
   ]
  },
  {
   "cell_type": "code",
   "execution_count": null,
   "id": "6106fd1d-a035-4804-b7be-07ebb6497c0a",
   "metadata": {},
   "outputs": [],
   "source": [
    "## Check full set accuracy\n",
    "mdl = ['original_model', 'base_model']\n",
    "orig = []\n",
    "base = []\n",
    "for mnth in range(140, 168):\n",
    "    orig_preds = loaded_predictions['y_prediction'][(loaded_predictions['Month'] == mnth) & (loaded_predictions['Model'] == mdl[0])].tolist()\n",
    "    base_preds = loaded_predictions['y_prediction'][(loaded_predictions['Month'] == mnth) & (loaded_predictions['Model'] == mdl[1])].tolist()\n",
    "    orig.append(quick_eval(mask_list(orig_preds, flat_mask, 9999), np.nan_to_num(all_data_df['CA_catdef'].iloc[mnth], nan=0).flatten()))\n",
    "    base.append(quick_eval(base_preds, np.nan_to_num(all_data_df['catdef'].iloc[mnth], nan=0).flatten()))\n",
    "clear_output()\n",
    "compare_df = pd.DataFrame(orig, columns = [mdl[0]])\n",
    "compare_df[mdl[1]] = (base)\n",
    "compare_df['diff'] = compare_df[mdl[1]] - compare_df[mdl[0]]\n",
    "compare_df\n",
    "# print(mdl[1], 'improvement', np.sum(compare_df['diff']))\n",
    "print('improvement', np.average(compare_df[mdl[1]]) - np.average(compare_df[mdl[0]]), np.average(compare_df[mdl[1]]), np.average(compare_df[mdl[0]]))"
   ]
  },
  {
   "cell_type": "markdown",
   "id": "cb8aee9c-62d1-4282-abb2-acf7a82eb60a",
   "metadata": {
    "tags": []
   },
   "source": [
    "# Check feature importance\n"
   ]
  },
  {
   "cell_type": "code",
   "execution_count": null,
   "id": "eeb69126-f7f5-498b-bad9-83ff9437221e",
   "metadata": {},
   "outputs": [],
   "source": [
    "catdef_region_sums = all_data_df.iloc[:,8:18]\n",
    "orig_array = catdef_region_sums.columns\n",
    "catdef_region_sums['Month'] = all_data_df['Data_month']\n",
    "\n",
    "for col in orig_array:\n",
    "    name = str(col + '_sum')\n",
    "    catdef_region_sums[name] = catdef_region_sums[col].apply(lambda x: np.sum(np.nan_to_num(x, nan=0)))\n",
    "catdef_region_sums"
   ]
  },
  {
   "cell_type": "code",
   "execution_count": null,
   "id": "1f229561-d7ca-42a8-b196-f5ce33910a30",
   "metadata": {},
   "outputs": [],
   "source": [
    "#### save catdef sums to csv\n",
    "catdef_region_sums_csv = catdef_region_sums.iloc[:,10:]\n",
    "catdef_region_sums_csv['Month'] = catdef_region_sums['Month']\n",
    "filepath = './2_input_data/catdef_region_sums.csv'  \n",
    "catdef_region_sums_csv.to_csv(filepath)  "
   ]
  },
  {
   "cell_type": "code",
   "execution_count": null,
   "id": "2ba1a42a-0ca3-49c3-bc73-f64a49c5acda",
   "metadata": {},
   "outputs": [],
   "source": [
    "catdef_region_sums_csv"
   ]
  },
  {
   "cell_type": "code",
   "execution_count": null,
   "id": "2ece1877-6bbc-4fbb-b58b-411e72b1f72f",
   "metadata": {},
   "outputs": [],
   "source": [
    "X = catdef_region_sums.iloc[:,10:].to_numpy()\n",
    "Y = all_data_df['CA_catdef'].apply(lambda x: np.sum(np.nan_to_num(x))).astype(int)\n",
    "# decision tree for feature importance on a regression problem\n",
    "from sklearn.datasets import make_regression\n",
    "from sklearn.tree import DecisionTreeRegressor\n",
    "from matplotlib import pyplot\n",
    "# define dataset\n",
    "# X, y = make_regression(n_samples=1000, n_features=10, n_informative=5, random_state=1)\n",
    "# define the model\n",
    "model = DecisionTreeRegressor()\n",
    "# fit the model\n",
    "model.fit(X, Y)\n",
    "# get importance\n",
    "importance = model.feature_importances_\n",
    "# summarize feature importance\n",
    "for i,v in enumerate(importance):\n",
    "\tprint('Feature: %0d, Score: %.5f' % (i,v))\n",
    "# plot feature importance\n",
    "pyplot.bar([x for x in range(len(importance))], importance)\n",
    "pyplot.show()"
   ]
  },
  {
   "cell_type": "code",
   "execution_count": null,
   "id": "cf990973-c103-4557-b959-554758b44b15",
   "metadata": {},
   "outputs": [],
   "source": [
    "# random forest for feature importance on a regression problem\n",
    "from sklearn.datasets import make_regression\n",
    "from sklearn.ensemble import RandomForestRegressor\n",
    "from matplotlib import pyplot\n",
    "# define the model\n",
    "model = RandomForestRegressor()\n",
    "# fit the model\n",
    "model.fit(X, Y)\n",
    "# get importance\n",
    "importance = model.feature_importances_\n",
    "# summarize feature importance\n",
    "for i,v in enumerate(importance):\n",
    "\tprint('Feature: %0d, Score: %.5f' % (i,v))\n",
    "# plot feature importance\n",
    "pyplot.bar([x for x in range(len(importance))], importance)\n",
    "pyplot.show()"
   ]
  },
  {
   "cell_type": "code",
   "execution_count": null,
   "id": "316ed8f1-43b8-4a90-b728-860ffb1b12d2",
   "metadata": {},
   "outputs": [],
   "source": [
    "fig = plt.figure(facecolor=(1, 1, 1))\n",
    "# define the model\n",
    "model = LogisticRegression()\n",
    "# fit the model\n",
    "model.fit(X, Y)\n",
    "# get importance\n",
    "importance = model.coef_[0]\n",
    "# summarize feature importance\n",
    "for i,v in enumerate(importance):\n",
    "\tprint('Feature: %0d, Score: %.5f' % (i,v))\n",
    "# plot feature importance\n",
    "plt.bar([x for x in range(len(importance))], importance)\n",
    "plt.show()\n",
    "plt.savefig('feature_importance.png')"
   ]
  },
  {
   "cell_type": "markdown",
   "id": "968bc5ac-f242-43ca-9c65-12ba74ba62cc",
   "metadata": {
    "tags": []
   },
   "source": [
    "# Find regions that outperform the original model"
   ]
  },
  {
   "cell_type": "code",
   "execution_count": null,
   "id": "e45254ff-ca25-4046-936e-1e1ea28617d6",
   "metadata": {},
   "outputs": [],
   "source": [
    "fig = plt.figure(figsize= (80,80))\n",
    "month_range = np.arange(144,156)\n",
    "plotme = []\n",
    "nameme = []\n",
    "maxerr = 0\n",
    "minerr = 0\n",
    "model_names = ['original_model', 'base_model', 'model_1', 'model_2', 'model_3', 'model_4', 'model_5', 'model_6', 'model_7', 'model_8', 'model_9', 'model_10']\n",
    "\n",
    "\n",
    "# # establish error of original model\n",
    "# for month in month_range:\n",
    "#         o_month_pred = loaded_predictions[(loaded_predictions['Model'] == 'base') & (loaded_predictions['Month'] == month)]['y_prediction'].tolist()\n",
    "#         o_month_pred_ca = mask_list(month_pred, flat_mask, 9999)\n",
    "#         o_error = all_data_df['CA_catdef'][month].flatten() - np.nan_to_num(month_pred_ca, nan=0)\n",
    "#         # print(error)\n",
    "\n",
    "# compare other models to original\n",
    "for model in model_names:\n",
    "    for month in month_range:\n",
    "        \n",
    "        o_month_pred = loaded_predictions[(loaded_predictions['Model'] == 'base_model') & (loaded_predictions['Month'] == month)]['y_prediction'].tolist()\n",
    "        o_month_pred_ca = mask_list(o_month_pred, flat_mask, 9999)\n",
    "        o_error = abs(all_data_df['CA_catdef'][month].flatten() - np.nan_to_num(o_month_pred_ca, nan=0))\n",
    "        \n",
    "        \n",
    "        \n",
    "        month_pred = loaded_predictions[(loaded_predictions['Model'] == model) & (loaded_predictions['Month'] == month)]['y_prediction'].tolist()\n",
    "        month_pred_ca = mask_list(month_pred, flat_mask, 9999)\n",
    "        error = -1 * abs((all_data_df['CA_catdef'][month].flatten() - np.nan_to_num(month_pred_ca, nan=0)))\n",
    "        # maxerr0 = max(np.nan_to_num(error, nan=0))\n",
    "        # minerr0 = min(np.nan_to_num(error, nan=0))\n",
    "        # if maxerr0 > maxerr:\n",
    "        #     maxerr = maxerr0\n",
    "        # if minerr0 > minerr:\n",
    "        #     minerr = minerr0\n",
    "        # for i in range(len(error)):\n",
    "        #     if error[i] > o_error[i]:\n",
    "        #         error[i] = None\n",
    "            \n",
    "        # print(error)\n",
    "        # error = mask_list(error[0], flat_mask, 9999)\n",
    "        \n",
    "        title = str(str(model) + ' ' + str(month))\n",
    "        plotme.append(error)\n",
    "        nameme.append(title)\n",
    "\n",
    "for i in range(1, len(model_names)*len(month_range)+1):\n",
    "    plt.subplot(13,12,i)\n",
    "    plt.title(nameme[i-1], fontsize = 20)\n",
    "    plt.imshow(plotme[i-1].reshape(33,37), cmap='RdYlGn')\n",
    "\n",
    "    plt.text(.5, .5, i)\n",
    "    \n"
   ]
  },
  {
   "cell_type": "code",
   "execution_count": null,
   "id": "7ef6fa40-11ad-4fea-8580-d6e2a760132a",
   "metadata": {},
   "outputs": [],
   "source": [
    "loaded_predictions[(loaded_predictions['Model'] == 'model_1_RanfC') & (loaded_predictions['Month'] == 140)]['y_prediction'].tolist()"
   ]
  },
  {
   "cell_type": "code",
   "execution_count": null,
   "id": "4ded1559-40b9-4e7f-81d5-b9c52ae089a5",
   "metadata": {},
   "outputs": [],
   "source": [
    "loaded_predictions"
   ]
  },
  {
   "cell_type": "code",
   "execution_count": null,
   "id": "dbd459f2-1b4d-45f7-a346-9b6fd49b207e",
   "metadata": {},
   "outputs": [],
   "source": [
    "# model_region_dict = {\n",
    "#     1:'base_model',\n",
    "#     2:'model_2',\n",
    "#     3:'base_model',\n",
    "#     4:'base_model',\n",
    "#     5:'model_5',\n",
    "#     6:'model_6',\n",
    "#     7:'base_model',\n",
    "#     8:'base_model',\n",
    "#     9:'base_model',\n",
    "#     10:'model_10'     \n",
    "# }\n",
    "model_region_dict = {\n",
    "    1:'base_model',\n",
    "    2:'base_model',\n",
    "    3:'base_model',\n",
    "    4:'base_model',\n",
    "    5:'base_model',\n",
    "    6:'base_model',\n",
    "    7:'base_model',\n",
    "    8:'base_model',\n",
    "    9:'base_model',\n",
    "    10:'base_model'     \n",
    "}"
   ]
  },
  {
   "cell_type": "code",
   "execution_count": null,
   "id": "78383ef3-a39e-4c2a-9bbb-42be69765c7f",
   "metadata": {},
   "outputs": [],
   "source": [
    "mix_n_match = []\n",
    "mixed_df = pd.DataFrame()\n",
    "mixed_df['Month'] = test_months\n",
    "# mixed_df['mixed_predictions'] = []\n",
    "for i in range(train_size, len(all_data_df)):\n",
    "#     # print(i)\n",
    "#     # base_row = base_df[i]\n",
    "#     # print(loaded_predictions['Month'][i])\n",
    "    mix_n_match.append(sampler(loaded_predictions, model_region_dict, i))\n",
    "    \n",
    "mixed_df['Model'] = 'mixed_models'\n",
    "mixed_df['y_prediction'] = mix_n_match\n",
    "# mixed_df['mixed_sums'] = mixed_df['y_prediction'].apply(lambda x: np.sum(x))\n",
    "\n",
    "# add mixed_df to loaded_predictions\n",
    "predictions_plus_mixed = pd.concat([mixed_df, loaded_predictions], ignore_index = True)\n",
    "predictions_plus_mixed['y_masked'] = predictions_plus_mixed['y_prediction'].apply(lambda x: np.nan_to_num(mask_list(x, flat_mask, 9999), nan=0))\n",
    "predictions_plus_mixed.head()"
   ]
  },
  {
   "cell_type": "code",
   "execution_count": null,
   "id": "9588436c-e3dc-4a6f-a442-64a2abab8a9a",
   "metadata": {},
   "outputs": [],
   "source": [
    "## Check full accuracy for mixed_df\n",
    "offset = 8\n",
    "mdl = ['original_model', 'mixed_models']\n",
    "orig = []\n",
    "mix = []\n",
    "for mnth in range(140, 168):\n",
    "    original_preds = np.nan_to_num(mask_list(predictions_plus_mixed['y_masked'][(predictions_plus_mixed['Month'] == mnth) & (predictions_plus_mixed['Model'] == mdl[0])].tolist(), flat_mask, 9999), nan=0)\n",
    "    # mixed_preds = np.nan_to_num(mask_list(mixed_df['y_prediction'][(loaded_predictions['Month'] == mnth)].tolist(), flat_mask, 9999), nan=0)\n",
    "    mixed_preds =  np.nan_to_num(mask_list(predictions_plus_mixed['y_masked'][(predictions_plus_mixed['Month'] == mnth) & (predictions_plus_mixed['Model'] == mdl[1])].tolist(), flat_mask, 9999), nan=0)\n",
    "    orig.append(quick_eval(original_preds, np.nan_to_num(all_data_df['CA_catdef'].iloc[mnth], nan=0).flatten()))\n",
    "    mix.append(quick_eval(mixed_preds, np.nan_to_num(all_data_df['CA_catdef'].iloc[mnth], nan=0).flatten()))\n",
    "clear_output()\n",
    "compare_df = pd.DataFrame(orig, columns = [mdl[0]])\n",
    "compare_df[mdl[1]] = (mix)\n",
    "compare_df['diff'] = compare_df[mdl[1]] - compare_df[mdl[0]]\n",
    "compare_df\n",
    "# print(mdl[1], 'improvement', np.sum(compare_df['diff']))\n",
    "print('improvement', np.average(compare_df[mdl[1]]) - np.average(compare_df[mdl[0]]), np.average(compare_df[mdl[1]]), np.average(compare_df[mdl[0]]))"
   ]
  },
  {
   "cell_type": "code",
   "execution_count": null,
   "id": "72cd01f4-c3ad-48eb-b2db-8e4d73776415",
   "metadata": {},
   "outputs": [],
   "source": [
    "# aaa = loaded_predictions['y_prediction'][(loaded_predictions['Model'] == 'base_model') & (loaded_predictions['Month'] == 123)][45].astype(int)"
   ]
  },
  {
   "cell_type": "code",
   "execution_count": null,
   "id": "7d221ef5-2af3-4202-abd4-6c5b183917f5",
   "metadata": {},
   "outputs": [],
   "source": [
    "# bbb = np.array(predictions_plus_mixed['y_prediction'].iloc[0]).astype(int)"
   ]
  },
  {
   "cell_type": "code",
   "execution_count": null,
   "id": "8e89e857-2e69-4069-8b07-9018d023df4f",
   "metadata": {},
   "outputs": [],
   "source": [
    "for i in range(len(aaa)):\n",
    "    print(aaa[i], bbb[i])"
   ]
  },
  {
   "cell_type": "code",
   "execution_count": null,
   "id": "de5d1b89-89c8-4fd6-a827-2506613afd23",
   "metadata": {},
   "outputs": [],
   "source": [
    "#### save compiled pred to .pkl\n",
    "\n",
    "# compile_predictions = 1\n",
    "if compile_predictions == 1:\n",
    "    if multi_features == 0:\n",
    "         path = './data/predictions_plus_mixed.pkl'\n",
    "    if multi_features == 1:\n",
    "         path = './2_input_data/predictions_plus_mixed.pkl'\n",
    "    with open(path, \"wb\") as fh:\n",
    "      pickle.dump(predictions_plus_mixed, fh)"
   ]
  },
  {
   "cell_type": "code",
   "execution_count": null,
   "id": "7c258c26-6de6-46c9-9cdd-7ea42aa3d95a",
   "metadata": {},
   "outputs": [],
   "source": [
    "predictions_plus_mixed"
   ]
  },
  {
   "cell_type": "code",
   "execution_count": null,
   "id": "edcef016-a667-4fa8-a4ce-7b14f65b6182",
   "metadata": {},
   "outputs": [],
   "source": [
    "#### save output to ensemble\n",
    "overwrite_ensemble_output = 1\n",
    "if overwrite_ensemble_output == 1:\n",
    "        output_grid_predictions = loaded_predictions_full[loaded_predictions_full['Model'] == 'mixed_models']\n",
    "        output_grid_predictions['predicted_catdef'] = output_grid_predictions['y_masked']\n",
    "        output_grid_predictions = output_grid_predictions.drop(['y_prediction', 'Model', 'y_masked'], axis = 1)\n",
    "\n",
    "        filepath_out = './out_to_ensemble/convlstm_predictions.pkl'\n",
    "        with open(filepath_out, \"wb\") as fh:\n",
    "            pickle.dump(output_grid_predictions, fh)\n",
    "\n",
    "        with open(filepath_out, \"rb\") as fh:\n",
    "            output_grid_predictions = pickle.load(fh)"
   ]
  },
  {
   "cell_type": "code",
   "execution_count": null,
   "id": "c058cd0b-f8bc-480b-b60d-e1e85629f646",
   "metadata": {},
   "outputs": [],
   "source": [
    "# check output to ensemble\n",
    "\n",
    "filepath_out = './out_to_ensemble/convlstm_predictions.pkl'\n",
    "with open(filepath_out, \"rb\") as fh:\n",
    "    output_grid_predictions_l = pickle.load(fh)\n",
    "output_grid_predictions_l.head(5)"
   ]
  },
  {
   "cell_type": "markdown",
   "id": "3020fc02-ff77-42ce-9721-aa8f0df4e349",
   "metadata": {},
   "source": [
    "# Plot sums"
   ]
  },
  {
   "cell_type": "code",
   "execution_count": null,
   "id": "a35ee82c-d3c6-4e71-b85e-8700ba555cb1",
   "metadata": {},
   "outputs": [],
   "source": [
    "# predicted_sums = loaded_predictions.copy()\n",
    "predicted_sums =  predictions_plus_mixed.copy()\n",
    "predicted_sums['y_sum'] = predicted_sums['y_prediction'].apply(lambda x: np.sum(x))\n",
    "predicted_sums['y_masked_sum'] = predicted_sums['y_masked'].apply(lambda x: np.sum(x))\n",
    "predicted_sums = predicted_sums.drop(['y_prediction'], axis = 1)\n",
    "predicted_sums['mask_diff'] = predicted_sums['y_sum'] - predicted_sums['y_masked_sum']\n"
   ]
  },
  {
   "cell_type": "code",
   "execution_count": null,
   "id": "58b0818d-920a-433b-ab1f-913012015920",
   "metadata": {},
   "outputs": [],
   "source": [
    "test_len = len(predicted_sums['Month'].unique())\n",
    "\n",
    "for model in predicted_sums['Model'].unique():\n",
    "    nametag = str(model + '_sum')\n",
    "    model_sums = predicted_sums['y_sum'][predicted_sums['Model'] == model]\n",
    "    predicted_sums[nametag] = 0\n",
    "    predicted_sums[nametag][:test_len] = model_sums\n",
    "    \n",
    "    maskname = str(model + '_mask_sum')\n",
    "    masked_sums = predicted_sums['y_masked_sum'][predicted_sums['Model'] == model]\n",
    "    predicted_sums[maskname] = 0\n",
    "    predicted_sums[maskname][:test_len] = masked_sums\n",
    "    \n",
    "predicted_sums = predicted_sums[:test_len]\n",
    "   \n",
    "predicted_sums.head()"
   ]
  },
  {
   "cell_type": "code",
   "execution_count": null,
   "id": "1d497fc0-7b3a-40f7-a9a3-9713b331d158",
   "metadata": {},
   "outputs": [],
   "source": [
    "start_mo = min(predicted_sums['Month'].unique())\n",
    "stop_mo = max(predicted_sums['Month'].unique())\n",
    "cacatdef = all_data_df['CA_catdef'][start_mo:stop_mo + 1].apply(lambda x: np.sum(np.nan_to_num(x,nan=0)))\n",
    "catdef = all_data_df['catdef'][start_mo:stop_mo + 1].apply(lambda x: np.sum(np.nan_to_num(x,nan=0)))\n",
    "\n",
    "predicted_sums['CA_catdef'] = cacatdef.tolist()\n",
    "predicted_sums['catdef'] = catdef.tolist()\n",
    "\n",
    "predicted_sums.head(2)"
   ]
  },
  {
   "cell_type": "code",
   "execution_count": null,
   "id": "544be165-3ac4-4290-ada6-7ad9e95769cf",
   "metadata": {},
   "outputs": [],
   "source": [
    "#### save compiled sums to csv\n",
    "predicted_sums_csv = predicted_sums.drop(['y_masked'], axis = 1)\n",
    "filepath = './2_input_data/predicted_sums.csv'  \n",
    "predicted_sums_csv.to_csv(filepath)  "
   ]
  },
  {
   "cell_type": "code",
   "execution_count": null,
   "id": "f70a4194-5996-4b49-9910-9fd17a8bd65c",
   "metadata": {},
   "outputs": [],
   "source": [
    "ensemble_output"
   ]
  },
  {
   "cell_type": "code",
   "execution_count": null,
   "id": "ac45e154-6d69-44fc-93af-faf08731ffd0",
   "metadata": {},
   "outputs": [],
   "source": []
  },
  {
   "cell_type": "code",
   "execution_count": null,
   "id": "b1196c59-6c52-4348-8349-db91f4fa9d47",
   "metadata": {},
   "outputs": [],
   "source": [
    "predicted_sums.plot(x=\"Month\", y=['catdef',  'original_model_sum','CA_catdef' ,'original_model_mask_sum'], figsize = (30, 10), cmap = mpl.colors.ListedColormap(['black', 'red', 'black', 'green']))"
   ]
  },
  {
   "cell_type": "code",
   "execution_count": null,
   "id": "07153277-e7aa-45a2-86b8-a933cd5f89d4",
   "metadata": {},
   "outputs": [],
   "source": [
    "fig = predicted_sums.plot(x=\"Month\", y=['CA_catdef', 'original_model_mask_sum', 'mixed_models_mask_sum'], figsize = (30, 10), cmap = mpl.colors.ListedColormap(['black', 'red', 'green']))\n",
    "fig.plot(predicted_sums['Month'], predicted_sums['mixed_models_mask_sum'], lw = 4, c = 'green')"
   ]
  },
  {
   "cell_type": "code",
   "execution_count": null,
   "id": "44b2d80b-9346-47c8-881a-15e4865ebd9d",
   "metadata": {},
   "outputs": [],
   "source": []
  },
  {
   "cell_type": "code",
   "execution_count": null,
   "id": "b68bea07-8ee4-47db-b9b6-78a7e154f6f8",
   "metadata": {},
   "outputs": [],
   "source": [
    "new_sums = predicted_sums_csv.copy()\n",
    "new_sums = new_sums.iloc[:,8:34:2]\n",
    "new_sums['Month'] = predicted_sums_csv['Month']\n",
    "new_sums.head(2)"
   ]
  },
  {
   "cell_type": "code",
   "execution_count": null,
   "id": "c59ec474-1b6c-42a6-9283-17150ed61987",
   "metadata": {
    "tags": []
   },
   "outputs": [],
   "source": [
    "new_cat_sums = catdef_region_sums_csv.copy()\n",
    "new_cat_sums = new_cat_sums.iloc[140:,:]\n",
    "new_cat_sums['Month'] = catdef_region_sums_csv['Month']\n",
    "new_cat_sums.reset_index(drop = True)\n",
    "new_cat_sums.head(2)"
   ]
  },
  {
   "cell_type": "code",
   "execution_count": null,
   "id": "18fbafb2-014c-41d3-af2f-66c029e291e0",
   "metadata": {},
   "outputs": [],
   "source": [
    "region_sum_composite = pd.merge(new_sums, new_cat_sums, on='Month')\n",
    "region_sum_composite"
   ]
  },
  {
   "cell_type": "code",
   "execution_count": null,
   "id": "e3f24f48-455a-4785-ba02-300e0ba9f8ae",
   "metadata": {},
   "outputs": [],
   "source": [
    "acc_array = []\n",
    "for i in range(1,11):\n",
    "    mskstr = str('model_' + str(i) + '_mask_sum')\n",
    "    cdstr = str('catdef_region_' + str(i) + '_sum')\n",
    "    msk_sum = np.sum(region_sum_composite[mskstr])\n",
    "    cd_sum =  np.sum(region_sum_composite[cdstr])\n",
    "    acc = 1 - ((abs(msk_sum-cd_sum))/cd_sum)\n",
    "    acc_array.append(round(acc*100, 1))\n",
    "acc_array"
   ]
  },
  {
   "cell_type": "code",
   "execution_count": null,
   "id": "a8d75a79-440a-438d-8a5f-ed3585ac4cee",
   "metadata": {},
   "outputs": [],
   "source": [
    "height = 25\n",
    "fig, axs = plt.subplots(10, figsize = (20, height))\n",
    "fig.suptitle('Region accuracy\\n', fontsize = height*2)\n",
    "fig.tight_layout(pad=3)\n",
    "\n",
    "\n",
    "for i in range(1,11):\n",
    "    mskstr = str('model_' + str(i) + '_mask_sum')\n",
    "    cdstr = str('catdef_region_' + str(i) + '_sum')\n",
    "    title = str('Region ' + str(i) + ': ' + str(acc_array[i-1]) + '%')\n",
    "    # axs[i-1].title.set_text(title, fontdict={'fontsize': height*.8, 'fontweight': 'medium'})\n",
    "    axs[i-1].set_title(title, fontsize = height*1.5, position = (.1,0))\n",
    "    # axs[i-1].set_ylim([0, 45000])\n",
    "    axs[i-1].plot(region_sum_composite['Month'], region_sum_composite[mskstr], c = 'red')\n",
    "    axs[i-1].plot(region_sum_composite['Month'], region_sum_composite[cdstr], c = 'black')\n"
   ]
  },
  {
   "cell_type": "code",
   "execution_count": null,
   "id": "75bb0690-4a3f-479b-af1c-99a4b9c4b49a",
   "metadata": {},
   "outputs": [],
   "source": [
    "loaded_predictions2 = loaded_predictions.copy()\n",
    "loaded_predictions2 = pd.concat([loaded_predictions, mixed_df], sort=False)"
   ]
  },
  {
   "cell_type": "code",
   "execution_count": null,
   "id": "8d22419f-edaa-4be0-b4aa-e849b4c3a8fd",
   "metadata": {},
   "outputs": [],
   "source": [
    "loaded_predictions2"
   ]
  },
  {
   "cell_type": "code",
   "execution_count": null,
   "id": "476d104a-90f6-4f77-96ce-2c91c08653dc",
   "metadata": {},
   "outputs": [],
   "source": [
    "cur_time = time.time()\n",
    "print(int(cur_time-start_time)/60)"
   ]
  },
  {
   "cell_type": "code",
   "execution_count": null,
   "id": "48d4c8bb-4d0e-451f-9532-e62dcedbbcc1",
   "metadata": {},
   "outputs": [],
   "source": [
    "# now_with_predictions.tail(25)"
   ]
  },
  {
   "cell_type": "code",
   "execution_count": null,
   "id": "a210f2db-b194-43c5-b514-04bdb6865be5",
   "metadata": {},
   "outputs": [],
   "source": [
    "model_names2 = ['mixed_models', 'base_model', 'model_1', 'model_2', 'model_3', 'model_4', 'model_5', 'model_6', 'model_7', 'model_8', 'model_9', 'model_10']\n",
    "\n",
    "fig = plt.figure(figsize= (80,80))\n",
    "month_range = np.arange(144,156)\n",
    "plotme = []\n",
    "nameme = []\n",
    "maxerr = 0\n",
    "minerr = 0\n",
    "\n",
    "# # establish error of original model\n",
    "# for month in month_range:\n",
    "#         o_month_pred = loaded_predictions[(loaded_predictions['Model'] == 'base') & (loaded_predictions['Month'] == month)]['y_prediction'].tolist()\n",
    "#         o_month_pred_ca = mask_list(month_pred, flat_mask, 9999)\n",
    "#         o_error = all_data_df['CA_catdef'][month].flatten() - np.nan_to_num(month_pred_ca, nan=0)\n",
    "#         # print(error)\n",
    "\n",
    "# compare other models to original\n",
    "for model in model_names2:\n",
    "    for month in month_range:\n",
    "        \n",
    "        o_month_pred = loaded_predictions2[(loaded_predictions2['Model'] == 'base_model') & (loaded_predictions2['Month'] == month)]['y_prediction'].tolist()\n",
    "        o_month_pred_ca = mask_list(o_month_pred, flat_mask, 9999)\n",
    "        o_error = abs(all_data_df['CA_catdef'][month].flatten() - np.nan_to_num(o_month_pred_ca, nan=0))\n",
    "        \n",
    "        \n",
    "        \n",
    "        month_pred = loaded_predictions2[(loaded_predictions2['Model'] == model) & (loaded_predictions2['Month'] == month)]['y_prediction'].tolist()\n",
    "        month_pred_ca = mask_list(month_pred, flat_mask, 9999)\n",
    "        error = o_error - abs((all_data_df['CA_catdef'][month].flatten() - np.nan_to_num(month_pred_ca, nan=0)))\n",
    "        # maxerr0 = max(np.nan_to_num(error, nan=0))\n",
    "        # minerr0 = min(np.nan_to_num(error, nan=0))\n",
    "        # if maxerr0 > maxerr:\n",
    "        #     maxerr = maxerr0\n",
    "        # if minerr0 > minerr:\n",
    "        #     minerr = minerr0\n",
    "        # for i in range(len(error)):\n",
    "        #     if error[i] > o_error[i]:\n",
    "        #         error[i] = None\n",
    "            \n",
    "        # print(error)\n",
    "        # error = mask_list(error[0], flat_mask, 9999)\n",
    "        \n",
    "        title = str(str(model) + ' ' + str(month))\n",
    "        plotme.append(error)\n",
    "        nameme.append(title)\n",
    "\n",
    "for i in range(1, len(model_names)*len(month_range)+1):\n",
    "    plt.subplot(13,12,i)\n",
    "    plt.title(nameme[i-1], fontsize = 20)\n",
    "    plt.imshow(plotme[i-1].reshape(33,37), cmap='RdYlGn')\n",
    "\n",
    "    plt.text(.5, .5, i)"
   ]
  },
  {
   "cell_type": "markdown",
   "id": "04be457e-5928-432f-afba-d5a88a27ac2c",
   "metadata": {
    "tags": []
   },
   "source": [
    "# Testing"
   ]
  },
  {
   "cell_type": "markdown",
   "id": "1f7d1b51",
   "metadata": {},
   "source": [
    "********************"
   ]
  }
 ],
 "metadata": {
  "environment": {
   "kernel": "python3",
   "name": "tf2-gpu.2-8.m91",
   "type": "gcloud",
   "uri": "gcr.io/deeplearning-platform-release/tf2-gpu.2-8:m91"
  },
  "kernelspec": {
   "display_name": "Python 3",
   "language": "python",
   "name": "python3"
  },
  "language_info": {
   "codemirror_mode": {
    "name": "ipython",
    "version": 3
   },
   "file_extension": ".py",
   "mimetype": "text/x-python",
   "name": "python",
   "nbconvert_exporter": "python",
   "pygments_lexer": "ipython3",
   "version": "3.7.12"
  }
 },
 "nbformat": 4,
 "nbformat_minor": 5
}
